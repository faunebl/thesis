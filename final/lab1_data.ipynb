{
 "cells": [
  {
   "cell_type": "code",
   "execution_count": null,
   "metadata": {},
   "outputs": [],
   "source": [
    "import polars as pl\n",
    "from utils import display_polars\n",
    "import get_data"
   ]
  },
  {
   "cell_type": "code",
   "execution_count": null,
   "metadata": {},
   "outputs": [],
   "source": [
    "test = pl.read_csv(r\"C:\\Users\\faune\\Downloads\\lab1\\lab1\\data\\dow_jones_news.csv\", separator=';')"
   ]
  },
  {
   "cell_type": "code",
   "execution_count": null,
   "metadata": {},
   "outputs": [],
   "source": [
    "(\n",
    "    test\n",
    "    .with_columns(pl.col('news').str.split('***'))\n",
    "    .explode('news')\n",
    "    .group_by('Date').agg(pl.col('news'), pl.col('Label').first())\n",
    "    .sort('Date')\n",
    "    .rename({'Date': 'date', 'Label': 'label', 'news': 'sentences'})\n",
    "    .with_columns(pl.col('label').replace({0:'negative', 1:'positive'}))\n",
    "    .explode('sentences')\n",
    ") #.group_by('date').agg(pl.col('label')).filter(pl.col('label').list.len().gt(1))"
   ]
  },
  {
   "cell_type": "code",
   "execution_count": null,
   "metadata": {},
   "outputs": [],
   "source": [
    "frame = get_data.get_labelled_frame()"
   ]
  },
  {
   "cell_type": "code",
   "execution_count": null,
   "metadata": {},
   "outputs": [],
   "source": [
    "frame.collect()"
   ]
  },
  {
   "cell_type": "code",
   "execution_count": null,
   "metadata": {},
   "outputs": [],
   "source": []
  }
 ],
 "metadata": {
  "kernelspec": {
   "display_name": "thesis",
   "language": "python",
   "name": "python3"
  },
  "language_info": {
   "codemirror_mode": {
    "name": "ipython",
    "version": 3
   },
   "file_extension": ".py",
   "mimetype": "text/x-python",
   "name": "python",
   "nbconvert_exporter": "python",
   "pygments_lexer": "ipython3",
   "version": "3.11.9"
  }
 },
 "nbformat": 4,
 "nbformat_minor": 2
}
