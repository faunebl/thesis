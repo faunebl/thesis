{
 "cells": [
  {
   "cell_type": "code",
   "execution_count": 2,
   "metadata": {},
   "outputs": [],
   "source": [
    "import polars as pl\n",
    "from utils import display_polars"
   ]
  },
  {
   "cell_type": "code",
   "execution_count": 3,
   "metadata": {},
   "outputs": [],
   "source": [
    "test = pl.read_csv(r\"C:\\Users\\faune\\Downloads\\lab1\\lab1\\data\\dow_jones_news.csv\", separator=';')"
   ]
  },
  {
   "cell_type": "code",
   "execution_count": 12,
   "metadata": {},
   "outputs": [
    {
     "data": {
      "text/html": [
       "<div><style>\n",
       ".dataframe > thead > tr,\n",
       ".dataframe > tbody > tr {\n",
       "  text-align: right;\n",
       "  white-space: pre-wrap;\n",
       "}\n",
       "</style>\n",
       "<small>shape: (5, 3)</small><table border=\"1\" class=\"dataframe\"><thead><tr><th>Date</th><th>Label</th><th>news</th></tr><tr><td>str</td><td>i64</td><td>list[str]</td></tr></thead><tbody><tr><td>&quot;2008-08-08&quot;</td><td>0</td><td>[&quot;Arrested Bissau navy boss tried coup - sources &quot;, &quot; IMM speculators boost long U.S. dollar position-CFTC &quot;, … &quot; A whale of a time in the Baltic&quot;]</td></tr><tr><td>&quot;2008-08-11&quot;</td><td>1</td><td>[&quot;New York Senate Republicans Pass Property Tax Relief &quot;, &quot; Dacor Believes That Bigger Is Better with New, Larger Wall Ovens &quot;, … &quot; Beijing smog watch: 11 August&quot;]</td></tr><tr><td>&quot;2008-08-12&quot;</td><td>0</td><td>[&quot;Gold plunges to 8-month low as investors jump ship &quot;, &quot; ADVISORY: Release of Warner Music buys Spanish firm &quot;, … &quot; Bush calls on Russia to end violence&quot;]</td></tr><tr><td>&quot;2008-08-13&quot;</td><td>0</td><td>[&quot;DreamWorks Animation in talks for Panda&quot; sequel&quot; &quot;, &quot; Scanbuy Launches 2D Barcode Application for Apple iPhone &quot;, … &quot; Japan economy shrinks&quot;]</td></tr><tr><td>&quot;2008-08-14&quot;</td><td>1</td><td>[&quot;Temecula Valley Bancorp Inc. to Present at the Howe Barnes Hoefer &amp; Arnett Community... &quot;, &quot; Georgia underscores need for strong US military-CEO &quot;, … &quot; Beijing smog watch: 14 August&quot;]</td></tr></tbody></table></div>"
      ],
      "text/plain": [
       "shape: (5, 3)\n",
       "┌────────────┬───────┬───────────────────────────────────┐\n",
       "│ Date       ┆ Label ┆ news                              │\n",
       "│ ---        ┆ ---   ┆ ---                               │\n",
       "│ str        ┆ i64   ┆ list[str]                         │\n",
       "╞════════════╪═══════╪═══════════════════════════════════╡\n",
       "│ 2008-08-08 ┆ 0     ┆ [\"Arrested Bissau navy boss trie… │\n",
       "│ 2008-08-11 ┆ 1     ┆ [\"New York Senate Republicans Pa… │\n",
       "│ 2008-08-12 ┆ 0     ┆ [\"Gold plunges to 8-month low as… │\n",
       "│ 2008-08-13 ┆ 0     ┆ [\"DreamWorks Animation in talks … │\n",
       "│ 2008-08-14 ┆ 1     ┆ [\"Temecula Valley Bancorp Inc. t… │\n",
       "└────────────┴───────┴───────────────────────────────────┘"
      ]
     },
     "execution_count": 12,
     "metadata": {},
     "output_type": "execute_result"
    }
   ],
   "source": [
    "(\n",
    "    test\n",
    "    .with_columns(pl.col('news').str.split('***'))\n",
    "    .explode('news')\n",
    "    .group_by('Date', 'Label').agg(pl.col('news'))\n",
    "    .sort('Date')\n",
    ").head()"
   ]
  },
  {
   "cell_type": "code",
   "execution_count": null,
   "metadata": {},
   "outputs": [],
   "source": []
  }
 ],
 "metadata": {
  "kernelspec": {
   "display_name": "thesis",
   "language": "python",
   "name": "python3"
  },
  "language_info": {
   "codemirror_mode": {
    "name": "ipython",
    "version": 3
   },
   "file_extension": ".py",
   "mimetype": "text/x-python",
   "name": "python",
   "nbconvert_exporter": "python",
   "pygments_lexer": "ipython3",
   "version": "3.11.9"
  }
 },
 "nbformat": 4,
 "nbformat_minor": 2
}
