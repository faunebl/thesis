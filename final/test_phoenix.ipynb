{
 "cells": [
  {
   "cell_type": "code",
   "execution_count": 1,
   "metadata": {},
   "outputs": [
    {
     "name": "stderr",
     "output_type": "stream",
     "text": [
      "c:\\Users\\faune\\miniconda3\\envs\\thesis\\Lib\\site-packages\\tqdm\\auto.py:21: TqdmWarning: IProgress not found. Please update jupyter and ipywidgets. See https://ipywidgets.readthedocs.io/en/stable/user_install.html\n",
      "  from .autonotebook import tqdm as notebook_tqdm\n"
     ]
    }
   ],
   "source": [
    "import phoenix as px \n",
    "import polars as pl\n",
    "import get_data"
   ]
  },
  {
   "cell_type": "code",
   "execution_count": 2,
   "metadata": {},
   "outputs": [],
   "source": [
    "labelled_frame = get_data.get_embeddings(dated=True)"
   ]
  },
  {
   "cell_type": "code",
   "execution_count": 3,
   "metadata": {},
   "outputs": [
    {
     "data": {
      "text/html": [
       "<div><style>\n",
       ".dataframe > thead > tr,\n",
       ".dataframe > tbody > tr {\n",
       "  text-align: right;\n",
       "  white-space: pre-wrap;\n",
       "}\n",
       "</style>\n",
       "<small>shape: (5, 4)</small><table border=\"1\" class=\"dataframe\"><thead><tr><th>date</th><th>sentences</th><th>label</th><th>embeddings</th></tr><tr><td>date</td><td>str</td><td>str</td><td>list[f64]</td></tr></thead><tbody><tr><td>2011-01-03</td><td>&quot;U.S. Open cham…</td><td>&quot;positive&quot;</td><td>[-0.008476, 0.023453, … 0.016983]</td></tr><tr><td>2011-01-03</td><td>&quot; NASA Langley …</td><td>&quot;positive&quot;</td><td>[-0.024475, 0.011719, … 0.01091]</td></tr><tr><td>2011-01-03</td><td>&quot; Triumph Group…</td><td>&quot;positive&quot;</td><td>[-0.037048, 0.022247, … 0.010315]</td></tr><tr><td>2011-01-03</td><td>&quot; PPR - $.0255 …</td><td>&quot;positive&quot;</td><td>[-0.014549, 0.004158, … 0.008728]</td></tr><tr><td>2011-01-03</td><td>&quot; One Man&#x27;s Mis…</td><td>&quot;positive&quot;</td><td>[-0.010185, 0.007202, … 0.010506]</td></tr></tbody></table></div>"
      ],
      "text/plain": [
       "shape: (5, 4)\n",
       "┌────────────┬───────────────────────────────────┬──────────┬───────────────────────────────────┐\n",
       "│ date       ┆ sentences                         ┆ label    ┆ embeddings                        │\n",
       "│ ---        ┆ ---                               ┆ ---      ┆ ---                               │\n",
       "│ date       ┆ str                               ┆ str      ┆ list[f64]                         │\n",
       "╞════════════╪═══════════════════════════════════╪══════════╪═══════════════════════════════════╡\n",
       "│ 2011-01-03 ┆ U.S. Open champion McDowell deci… ┆ positive ┆ [-0.008476, 0.023453, … 0.016983… │\n",
       "│ 2011-01-03 ┆  NASA Langley Forecast            ┆ positive ┆ [-0.024475, 0.011719, … 0.01091]  │\n",
       "│ 2011-01-03 ┆  Triumph Group Delivers Company … ┆ positive ┆ [-0.037048, 0.022247, … 0.010315… │\n",
       "│ 2011-01-03 ┆  PPR - $.0255 December Dividend   ┆ positive ┆ [-0.014549, 0.004158, … 0.008728… │\n",
       "│ 2011-01-03 ┆  One Man's Mission to Change the… ┆ positive ┆ [-0.010185, 0.007202, … 0.010506… │\n",
       "└────────────┴───────────────────────────────────┴──────────┴───────────────────────────────────┘"
      ]
     },
     "execution_count": 3,
     "metadata": {},
     "output_type": "execute_result"
    }
   ],
   "source": [
    "labelled_frame.collect().head()"
   ]
  },
  {
   "cell_type": "code",
   "execution_count": 18,
   "metadata": {},
   "outputs": [],
   "source": [
    "schema = px.Schema( \n",
    "    embedding_feature_column_names= {\n",
    "        'text_embedding': px.EmbeddingColumnNames(\n",
    "            vector_column_name='embeddings', \n",
    "            raw_data_column_name='sentences'\n",
    "        )\n",
    "    },\n",
    "    # excluded_column_names='label')\n",
    ")"
   ]
  },
  {
   "cell_type": "code",
   "execution_count": 19,
   "metadata": {},
   "outputs": [],
   "source": [
    "prod_ds = px.Inferences(dataframe=labelled_frame.drop('date').collect().to_pandas(), schema=schema, name=\"production\")"
   ]
  },
  {
   "cell_type": "code",
   "execution_count": 20,
   "metadata": {},
   "outputs": [
    {
     "name": "stderr",
     "output_type": "stream",
     "text": [
      "WARNI [phoenix.session.session] Existing running Phoenix instance detected! Shutting it down and starting a new instance...\n"
     ]
    },
    {
     "name": "stdout",
     "output_type": "stream",
     "text": [
      "🌍 To view the Phoenix app in your browser, visit http://localhost:6006/\n",
      "📖 For more information on how to use Phoenix, check out https://docs.arize.com/phoenix\n"
     ]
    },
    {
     "name": "stderr",
     "output_type": "stream",
     "text": [
      "c:\\Users\\faune\\miniconda3\\envs\\thesis\\Lib\\site-packages\\phoenix\\server\\api\\types\\EmbeddingDimension.py:422: FutureWarning: Series.__getitem__ treating keys as positions is deprecated. In a future version, integer keys will always be treated as labels (consistent with DataFrame behavior). To access a value by position, use `ser.iloc[pos]`\n",
      "  prediction_id=dataset[PREDICTION_ID][row_id],\n",
      "c:\\Users\\faune\\miniconda3\\envs\\thesis\\Lib\\site-packages\\phoenix\\server\\api\\types\\EmbeddingDimension.py:423: FutureWarning: Series.__getitem__ treating keys as positions is deprecated. In a future version, integer keys will always be treated as labels (consistent with DataFrame behavior). To access a value by position, use `ser.iloc[pos]`\n",
      "  link_to_data=dataset[self.dimension.link_to_data][row_id],\n",
      "c:\\Users\\faune\\miniconda3\\envs\\thesis\\Lib\\site-packages\\phoenix\\server\\api\\types\\EmbeddingDimension.py:424: FutureWarning: Series.__getitem__ treating keys as positions is deprecated. In a future version, integer keys will always be treated as labels (consistent with DataFrame behavior). To access a value by position, use `ser.iloc[pos]`\n",
      "  raw_data=dataset[self.dimension.raw_data][row_id],\n",
      "c:\\Users\\faune\\miniconda3\\envs\\thesis\\Lib\\site-packages\\phoenix\\server\\api\\types\\EmbeddingDimension.py:442: FutureWarning: Series.__getitem__ treating keys as positions is deprecated. In a future version, integer keys will always be treated as labels (consistent with DataFrame behavior). To access a value by position, use `ser.iloc[pos]`\n",
      "  prediction_label=dataset[PREDICTION_LABEL][row_id],\n",
      "c:\\Users\\faune\\miniconda3\\envs\\thesis\\Lib\\site-packages\\phoenix\\server\\api\\types\\EmbeddingDimension.py:443: FutureWarning: Series.__getitem__ treating keys as positions is deprecated. In a future version, integer keys will always be treated as labels (consistent with DataFrame behavior). To access a value by position, use `ser.iloc[pos]`\n",
      "  prediction_score=dataset[PREDICTION_SCORE][row_id],\n",
      "c:\\Users\\faune\\miniconda3\\envs\\thesis\\Lib\\site-packages\\phoenix\\server\\api\\types\\EmbeddingDimension.py:444: FutureWarning: Series.__getitem__ treating keys as positions is deprecated. In a future version, integer keys will always be treated as labels (consistent with DataFrame behavior). To access a value by position, use `ser.iloc[pos]`\n",
      "  actual_label=dataset[ACTUAL_LABEL][row_id],\n",
      "c:\\Users\\faune\\miniconda3\\envs\\thesis\\Lib\\site-packages\\phoenix\\server\\api\\types\\EmbeddingDimension.py:445: FutureWarning: Series.__getitem__ treating keys as positions is deprecated. In a future version, integer keys will always be treated as labels (consistent with DataFrame behavior). To access a value by position, use `ser.iloc[pos]`\n",
      "  actual_score=dataset[ACTUAL_SCORE][row_id],\n"
     ]
    }
   ],
   "source": [
    "session = px.launch_app(primary=prod_ds)"
   ]
  },
  {
   "cell_type": "code",
   "execution_count": null,
   "metadata": {},
   "outputs": [],
   "source": []
  }
 ],
 "metadata": {
  "kernelspec": {
   "display_name": "thesis",
   "language": "python",
   "name": "python3"
  },
  "language_info": {
   "codemirror_mode": {
    "name": "ipython",
    "version": 3
   },
   "file_extension": ".py",
   "mimetype": "text/x-python",
   "name": "python",
   "nbconvert_exporter": "python",
   "pygments_lexer": "ipython3",
   "version": "3.11.9"
  }
 },
 "nbformat": 4,
 "nbformat_minor": 2
}
