{
 "cells": [
  {
   "cell_type": "code",
   "execution_count": 1,
   "metadata": {},
   "outputs": [
    {
     "name": "stderr",
     "output_type": "stream",
     "text": [
      "c:\\Users\\faune\\miniconda3\\envs\\thesis\\Lib\\site-packages\\tqdm\\auto.py:21: TqdmWarning: IProgress not found. Please update jupyter and ipywidgets. See https://ipywidgets.readthedocs.io/en/stable/user_install.html\n",
      "  from .autonotebook import tqdm as notebook_tqdm\n"
     ]
    }
   ],
   "source": [
    "import phoenix as px \n",
    "import polars as pl\n",
    "import get_data"
   ]
  },
  {
   "cell_type": "code",
   "execution_count": 2,
   "metadata": {},
   "outputs": [],
   "source": [
    "labelled_frame = get_data.import_sentences(dated=True)"
   ]
  },
  {
   "cell_type": "code",
   "execution_count": 23,
   "metadata": {},
   "outputs": [
    {
     "data": {
      "text/html": [
       "<div><style>\n",
       ".dataframe > thead > tr,\n",
       ".dataframe > tbody > tr {\n",
       "  text-align: right;\n",
       "  white-space: pre-wrap;\n",
       "}\n",
       "</style>\n",
       "<small>shape: (48_873, 3)</small><table border=\"1\" class=\"dataframe\"><thead><tr><th>date</th><th>sentences</th><th>label</th></tr><tr><td>date</td><td>str</td><td>str</td></tr></thead><tbody><tr><td>2011-01-03</td><td>&quot;U.S. Open cham…</td><td>&quot;positive&quot;</td></tr><tr><td>2011-01-03</td><td>&quot; Interior Pain…</td><td>&quot;positive&quot;</td></tr><tr><td>2011-01-03</td><td>&quot; NASA Langley …</td><td>&quot;positive&quot;</td></tr><tr><td>2011-01-03</td><td>&quot; Liberty Prope…</td><td>&quot;positive&quot;</td></tr><tr><td>2011-01-03</td><td>&quot; Triumph Group…</td><td>&quot;positive&quot;</td></tr><tr><td>&hellip;</td><td>&hellip;</td><td>&hellip;</td></tr><tr><td>2015-12-10</td><td>&quot; Corruption, p…</td><td>&quot;positive&quot;</td></tr><tr><td>2015-12-10</td><td>&quot; The Craftsman…</td><td>&quot;positive&quot;</td></tr><tr><td>2015-12-10</td><td>&quot; South African…</td><td>&quot;positive&quot;</td></tr><tr><td>2015-12-10</td><td>&quot; Embrace Winte…</td><td>&quot;positive&quot;</td></tr><tr><td>2015-12-10</td><td>&quot; Dazzling wind…</td><td>&quot;positive&quot;</td></tr></tbody></table></div>"
      ],
      "text/plain": [
       "shape: (48_873, 3)\n",
       "┌────────────┬───────────────────────────────────┬──────────┐\n",
       "│ date       ┆ sentences                         ┆ label    │\n",
       "│ ---        ┆ ---                               ┆ ---      │\n",
       "│ date       ┆ str                               ┆ str      │\n",
       "╞════════════╪═══════════════════════════════════╪══════════╡\n",
       "│ 2011-01-03 ┆ U.S. Open champion McDowell deci… ┆ positive │\n",
       "│ 2011-01-03 ┆  Interior Painting is Like Money… ┆ positive │\n",
       "│ 2011-01-03 ┆  NASA Langley Forecast            ┆ positive │\n",
       "│ 2011-01-03 ┆  Liberty Property Trust & Synter… ┆ positive │\n",
       "│ 2011-01-03 ┆  Triumph Group Delivers Company … ┆ positive │\n",
       "│ …          ┆ …                                 ┆ …        │\n",
       "│ 2015-12-10 ┆  Corruption, poverty hinder figh… ┆ positive │\n",
       "│ 2015-12-10 ┆  The Craftsman Brand Recalls Blo… ┆ positive │\n",
       "│ 2015-12-10 ┆  South African Markets - Factors… ┆ positive │\n",
       "│ 2015-12-10 ┆  Embrace Winter Travel with Top … ┆ positive │\n",
       "│ 2015-12-10 ┆  Dazzling window displays light … ┆ positive │\n",
       "└────────────┴───────────────────────────────────┴──────────┘"
      ]
     },
     "execution_count": 23,
     "metadata": {},
     "output_type": "execute_result"
    }
   ],
   "source": [
    "(\n",
    "    labelled_frame\n",
    "    .collect()\n",
    "    .filter(pl.col('date').dt.year().gt(2010), pl.col('sentences').str.contains(pattern = '[a-zA-Z]+'))\n",
    "    .group_by('date')\n",
    "    .agg(pl.col('sentences'), pl.col('label').first())\n",
    "    .with_columns(pl.col('sentences').list.gather_every(20))\n",
    "    .explode('sentences')\n",
    "    .sort('date')\n",
    ")"
   ]
  },
  {
   "cell_type": "code",
   "execution_count": 8,
   "metadata": {},
   "outputs": [
    {
     "data": {
      "text/plain": [
       "22.095325000000003"
      ]
     },
     "execution_count": 8,
     "metadata": {},
     "output_type": "execute_result"
    }
   ],
   "source": [
    "(155967*0.0085)/60"
   ]
  },
  {
   "cell_type": "code",
   "execution_count": null,
   "metadata": {},
   "outputs": [],
   "source": [
    "px.Schema()"
   ]
  }
 ],
 "metadata": {
  "kernelspec": {
   "display_name": "thesis",
   "language": "python",
   "name": "python3"
  },
  "language_info": {
   "codemirror_mode": {
    "name": "ipython",
    "version": 3
   },
   "file_extension": ".py",
   "mimetype": "text/x-python",
   "name": "python",
   "nbconvert_exporter": "python",
   "pygments_lexer": "ipython3",
   "version": "3.11.9"
  }
 },
 "nbformat": 4,
 "nbformat_minor": 2
}
