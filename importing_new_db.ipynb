{
 "cells": [
  {
   "cell_type": "code",
   "execution_count": null,
   "metadata": {},
   "outputs": [],
   "source": [
    "import polars as pl \n",
    "import polars.selectors as cs\n",
    "import seaborn as sns\n",
    "import utils\n",
    "import get_data\n",
    "from sklearn.metrics.pairwise import cosine_similarity\n",
    "import numpy as np\n",
    "from sklearn.manifold import TSNE"
   ]
  },
  {
   "cell_type": "code",
   "execution_count": null,
   "metadata": {},
   "outputs": [],
   "source": [
    "frame = pl.read_parquet(r\"C:\\Users\\faune\\Downloads\\0000.parquet\")"
   ]
  },
  {
   "cell_type": "code",
   "execution_count": null,
   "metadata": {},
   "outputs": [],
   "source": [
    "frame.drop('idx').with_columns(pl.col('label').replace({0:'negative', 1: 'positive'}))"
   ]
  },
  {
   "cell_type": "code",
   "execution_count": null,
   "metadata": {},
   "outputs": [],
   "source": [
    "similar_sentences = (\n",
    "    frame\n",
    "    .drop('idx')\n",
    "    .with_columns(pl.col('label').replace({0:'negative', 1: 'positive'}))\n",
    "    .sort('label', descending=True)\n",
    "    .unstack(step=37569, how=\"vertical\", columns='sentence')\n",
    "    .rename({'sentence_0': 'positive', 'sentence_1':'negative'})\n",
    "    .with_columns(pl.col('*').str.strip().str.split(' '))\n",
    "    .with_columns(pl.col('positive').list.set_intersection('negative').alias('similar_words'))\n",
    "    .with_columns(pl.col('similar_words').list.len().alias('nb_similar_words'))\n",
    "    .with_columns(pl.col('positive').list.len().alias('nb_positive_words'))\n",
    "    .with_columns(pl.col('negative').list.len().alias('nb_negative_words'))\n",
    "    .sort(['nb_positive_words', 'nb_negative_words'])\n",
    "    .with_columns(pl.col('nb_similar_words').truediv(pl.col('nb_positive_words')).alias('ratio_positive'))\n",
    "    .with_columns(pl.col('nb_similar_words').truediv(pl.col('nb_negative_words')).alias('ratio_negative'))\n",
    "    .with_columns(pl.mean_horizontal(pl.col('ratio_positive'), pl.col('ratio_negative')).alias('ratio_mean'))\n",
    "    .with_columns(pl.col('ratio_positive').sub(pl.col('ratio_negative')).abs().alias('ratio_diff'))\n",
    "    .sort(pl.col('similar_words').list.len(), descending=True)\n",
    "    # .with_columns(pl.col('nb_similar_words').replace({0: None, 1: None}))\n",
    "    # .drop_nulls(subset='nb_similar_words')\n",
    "    .sort('ratio_mean', descending=True)\n",
    "    .sort('ratio_diff')\n",
    "    .with_columns(pl.col('positive').list.join(' '))\n",
    "    .with_columns(pl.col('negative').list.join(' '))\n",
    "    # .filter(pl.col('ratio_mean').ge(0.5), pl.col('ratio_diff').le(0.5), pl.col('nb_positive_words').gt(1), pl.col('nb_negative_words').gt(1))\n",
    ")"
   ]
  },
  {
   "cell_type": "code",
   "execution_count": null,
   "metadata": {},
   "outputs": [],
   "source": [
    "similar_sentences= similar_sentences.filter(pl.col('nb_similar_words').gt(1))"
   ]
  },
  {
   "cell_type": "code",
   "execution_count": null,
   "metadata": {},
   "outputs": [],
   "source": [
    "similar_sentences = similar_sentences.with_columns(\n",
    "            pl.Series(\n",
    "                name= 'positive_embeddings', \n",
    "                values= get_data._get_embeddings_by_chunks(similar_sentences.select('positive').to_series().to_list(), 50)\n",
    "            )\n",
    "        ).with_columns(\n",
    "            pl.Series(\n",
    "                name= 'negative_embeddings', \n",
    "                values= get_data._get_embeddings_by_chunks(similar_sentences.select('negative').to_series().to_list(), 50)\n",
    "            )\n",
    "        )"
   ]
  },
  {
   "cell_type": "code",
   "execution_count": null,
   "metadata": {},
   "outputs": [],
   "source": [
    "similar_sentences = (\n",
    "    similar_sentences\n",
    "    .with_columns(\n",
    "        similar_sentences.with_columns(pl.col('positive_embeddings').list.to_array(1024),pl.col('negative_embeddings').list.to_array(1024))\n",
    "        .map_rows(function=lambda t : tuple(cosine_similarity(X=np.array(t[10]).reshape(1, -1), Y=np.array(t[11]).reshape(1, -1)).tolist()))\n",
    "    )\n",
    "    .explode('column_0')\n",
    "    .sort('column_0')\n",
    "    .rename({'column_0': 'cosine_similarity'})\n",
    "    .with_columns(\n",
    "        similar_sentences.with_columns(pl.col('positive_embeddings').list.to_array(1024),pl.col('negative_embeddings').list.to_array(1024))\n",
    "        .map_rows(function=lambda t :np.dot(a=t[10], b=np.transpose(t[11])))\n",
    "    )\n",
    "    .rename({'map': 'dot_product'})\n",
    "    .sort('cosine_similarity')\n",
    "    # .sort(['dot_product', 'cosine_similarity'])\n",
    ")"
   ]
  },
  {
   "cell_type": "code",
   "execution_count": null,
   "metadata": {},
   "outputs": [],
   "source": [
    "similar_sentences.select(cs.by_dtype(pl.Float64)).describe()"
   ]
  },
  {
   "cell_type": "code",
   "execution_count": null,
   "metadata": {},
   "outputs": [],
   "source": [
    "similar_sentences.head(1)"
   ]
  },
  {
   "cell_type": "code",
   "execution_count": null,
   "metadata": {},
   "outputs": [],
   "source": [
    "tsne = TSNE(n_components=2, random_state=0)\n",
    "tsne = tsne.fit_transform(np.array(similar_sentences['positive_embeddings'].to_list()))"
   ]
  },
  {
   "cell_type": "code",
   "execution_count": null,
   "metadata": {},
   "outputs": [],
   "source": [
    "similar_sentences = similar_sentences.with_columns(pl.Series(name = 'positive_tsne', values = tsne))"
   ]
  },
  {
   "cell_type": "code",
   "execution_count": null,
   "metadata": {},
   "outputs": [],
   "source": [
    "tsne = TSNE(n_components=2, random_state=0)\n",
    "tsne = tsne.fit_transform(np.array(similar_sentences['negative_embeddings'].to_list()))\n",
    "similar_sentences = similar_sentences.with_columns(pl.Series(name = 'negative_tsne', values = tsne))"
   ]
  },
  {
   "cell_type": "code",
   "execution_count": null,
   "metadata": {},
   "outputs": [],
   "source": [
    "similar_sentences = similar_sentences.with_columns(\n",
    "        similar_sentences\n",
    "        .map_rows(function=lambda t : tuple(cosine_similarity(X=np.array(t[14]).reshape(1, -1), Y=np.array(t[15]).reshape(1, -1)).tolist()))\n",
    "    ).rename({'column_0':'cosine_similarity_tsne'})"
   ]
  },
  {
   "cell_type": "code",
   "execution_count": null,
   "metadata": {},
   "outputs": [],
   "source": [
    "similar_sentences = similar_sentences.with_columns(\n",
    "        similar_sentences.with_columns(pl.col('positive_embeddings').list.to_array(1024),pl.col('negative_embeddings').list.to_array(1024))\n",
    "        .map_rows(function=lambda t :np.dot(a=t[10], b=np.transpose(t[11])))\n",
    "    ).explode('cosine_similarity_tsne').sort('cosine_similarity_tsne').rename({'map':'dot_product_tsne'})\n"
   ]
  },
  {
   "cell_type": "code",
   "execution_count": null,
   "metadata": {},
   "outputs": [],
   "source": [
    "similar_sentences.filter(pl.col('ratio_mean').ge(0.3))"
   ]
  },
  {
   "cell_type": "code",
   "execution_count": null,
   "metadata": {},
   "outputs": [],
   "source": [
    "positive_array = similar_sentences.select('positive_embeddings').to_series().to_numpy()\n",
    "negative_array = similar_sentences.select('negative_embeddings').to_series().to_numpy()"
   ]
  },
  {
   "cell_type": "code",
   "execution_count": null,
   "metadata": {},
   "outputs": [],
   "source": [
    "(\n",
    "    similar_sentences\n",
    "    .with_columns(\n",
    "        pl.Series(\n",
    "            name = 'cos_sim_test', \n",
    "            values = list(map(lambda x,y: cosine_similarity(X=x.reshape(1,-1), Y=y.reshape(1,-1)).tolist(), positive_array, negative_array))\n",
    "        )\n",
    "    )\n",
    "    .explode('cos_sim_test')\n",
    "    .explode('cos_sim_test')\n",
    "    .select('positive', 'negative', 'nb_similar_words', 'ratio_mean', 'cosine_similarity', 'cos_sim_test')\n",
    ")"
   ]
  },
  {
   "cell_type": "code",
   "execution_count": null,
   "metadata": {},
   "outputs": [],
   "source": [
    "print(cosine_similarity(X=positive_array[0].reshape(1, -1), Y=negative_array[0].reshape(1, -1)),\n",
    "cosine_similarity(X=positive_array[1].reshape(1, -1), Y=negative_array[1].reshape(1, -1)),\n",
    "cosine_similarity(X=positive_array[2].reshape(1, -1), Y=negative_array[2].reshape(1, -1)))"
   ]
  },
  {
   "cell_type": "code",
   "execution_count": null,
   "metadata": {},
   "outputs": [],
   "source": [
    "similar_sentences.select(cs.by_dtype(pl.Float64)).describe()"
   ]
  },
  {
   "cell_type": "code",
   "execution_count": null,
   "metadata": {},
   "outputs": [],
   "source": [
    "to_plot = (\n",
    "    similar_sentences\n",
    "    .select('positive', 'negative', 'positive_tsne', 'negative_tsne')\n",
    "    .melt(id_vars=['positive', 'negative'], value_vars = cs.contains('tsne'))\n",
    "    .select(pl.col('variable').str.split('_').list.first().alias('label'), pl.col('value').list.to_struct())\n",
    "    .unnest('value')\n",
    "    .rename({'field_0': 'x', 'field_1':'y'})\n",
    ")"
   ]
  },
  {
   "cell_type": "code",
   "execution_count": null,
   "metadata": {},
   "outputs": [],
   "source": [
    "import matplotlib.pyplot as plt\n",
    "\n",
    "sns.scatterplot(data = to_plot, x= 'x', y = 'y', hue='label')"
   ]
  },
  {
   "cell_type": "code",
   "execution_count": null,
   "metadata": {},
   "outputs": [],
   "source": []
  }
 ],
 "metadata": {
  "kernelspec": {
   "display_name": "thesis",
   "language": "python",
   "name": "python3"
  },
  "language_info": {
   "codemirror_mode": {
    "name": "ipython",
    "version": 3
   },
   "file_extension": ".py",
   "mimetype": "text/x-python",
   "name": "python",
   "nbconvert_exporter": "python",
   "pygments_lexer": "ipython3",
   "version": "3.11.9"
  }
 },
 "nbformat": 4,
 "nbformat_minor": 2
}
