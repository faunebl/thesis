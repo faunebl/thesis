{
 "cells": [
  {
   "cell_type": "code",
   "execution_count": 1,
   "metadata": {},
   "outputs": [],
   "source": [
    "import polars as pl \n",
    "import polars.selectors as cs\n",
    "import seaborn as sns\n",
    "import utils\n",
    "import get_data\n",
    "from sklearn.metrics.pairwise import cosine_similarity\n",
    "import numpy as np\n",
    "from sklearn.manifold import TSNE"
   ]
  },
  {
   "cell_type": "code",
   "execution_count": 2,
   "metadata": {},
   "outputs": [],
   "source": [
    "frame = pl.read_parquet(r\"C:\\Users\\faune\\Downloads\\0000.parquet\")"
   ]
  },
  {
   "cell_type": "code",
   "execution_count": 3,
   "metadata": {},
   "outputs": [
    {
     "data": {
      "text/html": [
       "<div><style>\n",
       ".dataframe > thead > tr,\n",
       ".dataframe > tbody > tr {\n",
       "  text-align: right;\n",
       "  white-space: pre-wrap;\n",
       "}\n",
       "</style>\n",
       "<small>shape: (67_349, 2)</small><table border=\"1\" class=\"dataframe\"><thead><tr><th>sentence</th><th>label</th></tr><tr><td>str</td><td>str</td></tr></thead><tbody><tr><td>&quot;hide new secre…</td><td>&quot;negative&quot;</td></tr><tr><td>&quot;contains no wi…</td><td>&quot;negative&quot;</td></tr><tr><td>&quot;that loves its…</td><td>&quot;positive&quot;</td></tr><tr><td>&quot;remains utterl…</td><td>&quot;negative&quot;</td></tr><tr><td>&quot;on the worst r…</td><td>&quot;negative&quot;</td></tr><tr><td>&hellip;</td><td>&hellip;</td></tr><tr><td>&quot;a delightful c…</td><td>&quot;positive&quot;</td></tr><tr><td>&quot;anguish , ange…</td><td>&quot;negative&quot;</td></tr><tr><td>&quot;at achieving t…</td><td>&quot;positive&quot;</td></tr><tr><td>&quot;a patient view…</td><td>&quot;positive&quot;</td></tr><tr><td>&quot;this new jangl…</td><td>&quot;negative&quot;</td></tr></tbody></table></div>"
      ],
      "text/plain": [
       "shape: (67_349, 2)\n",
       "┌───────────────────────────────────┬──────────┐\n",
       "│ sentence                          ┆ label    │\n",
       "│ ---                               ┆ ---      │\n",
       "│ str                               ┆ str      │\n",
       "╞═══════════════════════════════════╪══════════╡\n",
       "│ hide new secretions from the par… ┆ negative │\n",
       "│ contains no wit , only labored g… ┆ negative │\n",
       "│ that loves its characters and co… ┆ positive │\n",
       "│ remains utterly satisfied to rem… ┆ negative │\n",
       "│ on the worst revenge-of-the-nerd… ┆ negative │\n",
       "│ …                                 ┆ …        │\n",
       "│ a delightful comedy               ┆ positive │\n",
       "│ anguish , anger and frustration   ┆ negative │\n",
       "│ at achieving the modest , crowd-… ┆ positive │\n",
       "│ a patient viewer                  ┆ positive │\n",
       "│ this new jangle of noise , mayhe… ┆ negative │\n",
       "└───────────────────────────────────┴──────────┘"
      ]
     },
     "execution_count": 3,
     "metadata": {},
     "output_type": "execute_result"
    }
   ],
   "source": [
    "frame.drop('idx').with_columns(pl.col('label').replace({0:'negative', 1: 'positive'}))"
   ]
  },
  {
   "cell_type": "code",
   "execution_count": 4,
   "metadata": {},
   "outputs": [
    {
     "data": {
      "text/plain": [
       "<Axes: xlabel='label', ylabel='Count'>"
      ]
     },
     "execution_count": 4,
     "metadata": {},
     "output_type": "execute_result"
    },
    {
     "data": {
      "image/png": "[encoded data removed]",
      "text/plain": [
       "<Figure size 640x480 with 1 Axes>"
      ]
     },
     "metadata": {},
     "output_type": "display_data"
    }
   ],
   "source": [
    "sns.histplot(data = frame.drop('idx').with_columns(pl.col('label').replace({0:'negative', 1: 'positive'})), x='label', shrink=.5) #.pivot(values='sentence', index='idx', columns='label').drop('idx').describe()"
   ]
  },
  {
   "cell_type": "code",
   "execution_count": 7,
   "metadata": {},
   "outputs": [
    {
     "data": {
      "text/html": [
       "<div><style>\n",
       ".dataframe > thead > tr,\n",
       ".dataframe > tbody > tr {\n",
       "  text-align: right;\n",
       "  white-space: pre-wrap;\n",
       "}\n",
       "</style>\n",
       "<small>shape: (9, 3)</small><table border=\"1\" class=\"dataframe\"><thead><tr><th>statistic</th><th>negative</th><th>positive</th></tr><tr><td>str</td><td>str</td><td>str</td></tr></thead><tbody><tr><td>&quot;count&quot;</td><td>&quot;29780&quot;</td><td>&quot;37569&quot;</td></tr><tr><td>&quot;null_count&quot;</td><td>&quot;37569&quot;</td><td>&quot;29780&quot;</td></tr><tr><td>&quot;mean&quot;</td><td>null</td><td>null</td></tr><tr><td>&quot;std&quot;</td><td>null</td><td>null</td></tr><tr><td>&quot;min&quot;</td><td>&quot;$ 99 bargain-b…</td><td>&quot;$ 1.8 million …</td></tr><tr><td>&quot;25%&quot;</td><td>null</td><td>null</td></tr><tr><td>&quot;50%&quot;</td><td>null</td><td>null</td></tr><tr><td>&quot;75%&quot;</td><td>null</td><td>null</td></tr><tr><td>&quot;max&quot;</td><td>&quot;zzzzzzzzz &quot;</td><td>&quot;zoom ! &quot;</td></tr></tbody></table></div>"
      ],
      "text/plain": [
       "shape: (9, 3)\n",
       "┌────────────┬────────────────────────────────┬────────────────────────┐\n",
       "│ statistic  ┆ negative                       ┆ positive               │\n",
       "│ ---        ┆ ---                            ┆ ---                    │\n",
       "│ str        ┆ str                            ┆ str                    │\n",
       "╞════════════╪════════════════════════════════╪════════════════════════╡\n",
       "│ count      ┆ 29780                          ┆ 37569                  │\n",
       "│ null_count ┆ 37569                          ┆ 29780                  │\n",
       "│ mean       ┆ null                           ┆ null                   │\n",
       "│ std        ┆ null                           ┆ null                   │\n",
       "│ min        ┆ $ 99 bargain-basement special  ┆ $ 1.8 million charmer  │\n",
       "│ 25%        ┆ null                           ┆ null                   │\n",
       "│ 50%        ┆ null                           ┆ null                   │\n",
       "│ 75%        ┆ null                           ┆ null                   │\n",
       "│ max        ┆ zzzzzzzzz                      ┆ zoom !                 │\n",
       "└────────────┴────────────────────────────────┴────────────────────────┘"
      ]
     },
     "execution_count": 7,
     "metadata": {},
     "output_type": "execute_result"
    }
   ],
   "source": [
    "frame.with_columns(pl.col('label').replace({0:'negative', 1: 'positive'})).pivot(values='sentence', index='idx', columns='label').drop('idx').describe()"
   ]
  },
  {
   "cell_type": "code",
   "execution_count": 11,
   "metadata": {},
   "outputs": [
    {
     "data": {
      "text/plain": [
       "<Axes: xlabel='nb_of_words', ylabel='Count'>"
      ]
     },
     "execution_count": 11,
     "metadata": {},
     "output_type": "execute_result"
    },
    {
     "data": {
      "image/png": "[encoded data removed]",
      "text/plain": [
       "<Figure size 640x480 with 1 Axes>"
      ]
     },
     "metadata": {},
     "output_type": "display_data"
    }
   ],
   "source": [
    "sns.histplot(\n",
    "    data = (frame\n",
    "    .with_columns(pl.col('label').replace({0:'negative', 1: 'positive'}))\n",
    "    .with_columns(pl.col('sentence').str.strip_chars().str.split(' ').list.len().alias('nb_of_words'))),\n",
    "    x = 'nb_of_words',\n",
    "    hue='label'\n",
    ")"
   ]
  },
  {
   "cell_type": "code",
   "execution_count": 12,
   "metadata": {},
   "outputs": [
    {
     "name": "stderr",
     "output_type": "stream",
     "text": [
      "C:\\Users\\faune\\AppData\\Local\\Temp\\ipykernel_33596\\1801450877.py:8: DeprecationWarning: `strip` is deprecated. It has been renamed to `strip_chars`.\n",
      "  .with_columns(pl.col('*').str.strip().str.split(' '))\n"
     ]
    }
   ],
   "source": [
    "similar_sentences = (\n",
    "    frame\n",
    "    .drop('idx')\n",
    "    .with_columns(pl.col('label').replace({0:'negative', 1: 'positive'}))\n",
    "    .sort('label', descending=True)\n",
    "    .unstack(step=37569, how=\"vertical\", columns='sentence')\n",
    "    .rename({'sentence_0': 'positive', 'sentence_1':'negative'})\n",
    "    .with_columns(pl.col('*').str.strip().str.split(' '))\n",
    "    .with_columns(pl.col('positive').list.set_intersection('negative').alias('similar_words'))\n",
    "    .with_columns(pl.col('similar_words').list.len().alias('nb_similar_words'))\n",
    "    .with_columns(pl.col('positive').list.len().alias('nb_positive_words'))\n",
    "    .with_columns(pl.col('negative').list.len().alias('nb_negative_words'))\n",
    "    .sort(['nb_positive_words', 'nb_negative_words'])\n",
    "    .with_columns(pl.col('nb_similar_words').truediv(pl.col('nb_positive_words')).alias('ratio_positive'))\n",
    "    .with_columns(pl.col('nb_similar_words').truediv(pl.col('nb_negative_words')).alias('ratio_negative'))\n",
    "    .with_columns(pl.mean_horizontal(pl.col('ratio_positive'), pl.col('ratio_negative')).alias('ratio_mean'))\n",
    "    .with_columns(pl.col('ratio_positive').sub(pl.col('ratio_negative')).abs().alias('ratio_diff'))\n",
    "    .sort(pl.col('similar_words').list.len(), descending=True)\n",
    "    # .with_columns(pl.col('nb_similar_words').replace({0: None, 1: None}))\n",
    "    # .drop_nulls(subset='nb_similar_words')\n",
    "    .sort('ratio_mean', descending=True)\n",
    "    .sort('ratio_diff')\n",
    "    .with_columns(pl.col('positive').list.join(' '))\n",
    "    .with_columns(pl.col('negative').list.join(' '))\n",
    "    # .filter(pl.col('ratio_mean').ge(0.5), pl.col('ratio_diff').le(0.5), pl.col('nb_positive_words').gt(1), pl.col('nb_negative_words').gt(1))\n",
    ")"
   ]
  },
  {
   "cell_type": "code",
   "execution_count": 13,
   "metadata": {},
   "outputs": [],
   "source": [
    "similar_sentences= similar_sentences.filter(pl.col('nb_similar_words').gt(1))"
   ]
  },
  {
   "cell_type": "code",
   "execution_count": 14,
   "metadata": {},
   "outputs": [],
   "source": [
    "similar_sentences = similar_sentences.with_columns(\n",
    "            pl.Series(\n",
    "                name= 'positive_embeddings', \n",
    "                values= get_data._get_embeddings_by_chunks(similar_sentences.select('positive').to_series().to_list(), 50)\n",
    "            )\n",
    "        ).with_columns(\n",
    "            pl.Series(\n",
    "                name= 'negative_embeddings', \n",
    "                values= get_data._get_embeddings_by_chunks(similar_sentences.select('negative').to_series().to_list(), 50)\n",
    "            )\n",
    "        )"
   ]
  },
  {
   "cell_type": "code",
   "execution_count": 15,
   "metadata": {},
   "outputs": [],
   "source": [
    "similar_sentences = (\n",
    "    similar_sentences\n",
    "    .with_columns(\n",
    "        similar_sentences.with_columns(pl.col('positive_embeddings').list.to_array(1024),pl.col('negative_embeddings').list.to_array(1024))\n",
    "        .map_rows(function=lambda t : tuple(cosine_similarity(X=np.array(t[10]).reshape(1, -1), Y=np.array(t[11]).reshape(1, -1)).tolist()))\n",
    "    )\n",
    "    .explode('column_0')\n",
    "    .sort('column_0')\n",
    "    .rename({'column_0': 'cosine_similarity'})\n",
    "    .with_columns(\n",
    "        similar_sentences.with_columns(pl.col('positive_embeddings').list.to_array(1024),pl.col('negative_embeddings').list.to_array(1024))\n",
    "        .map_rows(function=lambda t :np.dot(a=t[10], b=np.transpose(t[11])))\n",
    "    )\n",
    "    .rename({'map': 'dot_product'})\n",
    "    .sort('cosine_similarity')\n",
    "    # .sort(['dot_product', 'cosine_similarity'])\n",
    ")"
   ]
  },
  {
   "cell_type": "code",
   "execution_count": 16,
   "metadata": {},
   "outputs": [
    {
     "data": {
      "text/html": [
       "<div><style>\n",
       ".dataframe > thead > tr,\n",
       ".dataframe > tbody > tr {\n",
       "  text-align: right;\n",
       "  white-space: pre-wrap;\n",
       "}\n",
       "</style>\n",
       "<small>shape: (9, 7)</small><table border=\"1\" class=\"dataframe\"><thead><tr><th>statistic</th><th>ratio_positive</th><th>ratio_negative</th><th>ratio_mean</th><th>ratio_diff</th><th>cosine_similarity</th><th>dot_product</th></tr><tr><td>str</td><td>f64</td><td>f64</td><td>f64</td><td>f64</td><td>f64</td><td>f64</td></tr></thead><tbody><tr><td>&quot;count&quot;</td><td>3669.0</td><td>3669.0</td><td>3669.0</td><td>3669.0</td><td>3669.0</td><td>3669.0</td></tr><tr><td>&quot;null_count&quot;</td><td>0.0</td><td>0.0</td><td>0.0</td><td>0.0</td><td>0.0</td><td>0.0</td></tr><tr><td>&quot;mean&quot;</td><td>0.187724</td><td>0.181378</td><td>0.184551</td><td>0.119082</td><td>0.654344</td><td>0.654343</td></tr><tr><td>&quot;std&quot;</td><td>0.106112</td><td>0.100314</td><td>0.064949</td><td>0.107833</td><td>0.076659</td><td>0.076655</td></tr><tr><td>&quot;min&quot;</td><td>0.040816</td><td>0.039216</td><td>0.063462</td><td>0.0</td><td>0.290701</td><td>0.290625</td></tr><tr><td>&quot;25%&quot;</td><td>0.111111</td><td>0.111111</td><td>0.138235</td><td>0.041667</td><td>0.601539</td><td>0.601494</td></tr><tr><td>&quot;50%&quot;</td><td>0.166667</td><td>0.157895</td><td>0.17378</td><td>0.088889</td><td>0.662866</td><td>0.662838</td></tr><tr><td>&quot;75%&quot;</td><td>0.235294</td><td>0.222222</td><td>0.218391</td><td>0.163043</td><td>0.715282</td><td>0.715389</td></tr><tr><td>&quot;max&quot;</td><td>1.0</td><td>0.75</td><td>0.6</td><td>0.909091</td><td>0.826643</td><td>0.827049</td></tr></tbody></table></div>"
      ],
      "text/plain": [
       "shape: (9, 7)\n",
       "┌────────────┬───────────────┬──────────────┬────────────┬────────────┬──────────────┬─────────────┐\n",
       "│ statistic  ┆ ratio_positiv ┆ ratio_negati ┆ ratio_mean ┆ ratio_diff ┆ cosine_simil ┆ dot_product │\n",
       "│ ---        ┆ e             ┆ ve           ┆ ---        ┆ ---        ┆ arity        ┆ ---         │\n",
       "│ str        ┆ ---           ┆ ---          ┆ f64        ┆ f64        ┆ ---          ┆ f64         │\n",
       "│            ┆ f64           ┆ f64          ┆            ┆            ┆ f64          ┆             │\n",
       "╞════════════╪═══════════════╪══════════════╪════════════╪════════════╪══════════════╪═════════════╡\n",
       "│ count      ┆ 3669.0        ┆ 3669.0       ┆ 3669.0     ┆ 3669.0     ┆ 3669.0       ┆ 3669.0      │\n",
       "│ null_count ┆ 0.0           ┆ 0.0          ┆ 0.0        ┆ 0.0        ┆ 0.0          ┆ 0.0         │\n",
       "│ mean       ┆ 0.187724      ┆ 0.181378     ┆ 0.184551   ┆ 0.119082   ┆ 0.654344     ┆ 0.654343    │\n",
       "│ std        ┆ 0.106112      ┆ 0.100314     ┆ 0.064949   ┆ 0.107833   ┆ 0.076659     ┆ 0.076655    │\n",
       "│ min        ┆ 0.040816      ┆ 0.039216     ┆ 0.063462   ┆ 0.0        ┆ 0.290701     ┆ 0.290625    │\n",
       "│ 25%        ┆ 0.111111      ┆ 0.111111     ┆ 0.138235   ┆ 0.041667   ┆ 0.601539     ┆ 0.601494    │\n",
       "│ 50%        ┆ 0.166667      ┆ 0.157895     ┆ 0.17378    ┆ 0.088889   ┆ 0.662866     ┆ 0.662838    │\n",
       "│ 75%        ┆ 0.235294      ┆ 0.222222     ┆ 0.218391   ┆ 0.163043   ┆ 0.715282     ┆ 0.715389    │\n",
       "│ max        ┆ 1.0           ┆ 0.75         ┆ 0.6        ┆ 0.909091   ┆ 0.826643     ┆ 0.827049    │\n",
       "└────────────┴───────────────┴──────────────┴────────────┴────────────┴──────────────┴─────────────┘"
      ]
     },
     "execution_count": 16,
     "metadata": {},
     "output_type": "execute_result"
    }
   ],
   "source": [
    "similar_sentences.select(cs.by_dtype(pl.Float64)).describe()"
   ]
  },
  {
   "cell_type": "code",
   "execution_count": 17,
   "metadata": {},
   "outputs": [
    {
     "data": {
      "text/html": [
       "<div><style>\n",
       ".dataframe > thead > tr,\n",
       ".dataframe > tbody > tr {\n",
       "  text-align: right;\n",
       "  white-space: pre-wrap;\n",
       "}\n",
       "</style>\n",
       "<small>shape: (1, 14)</small><table border=\"1\" class=\"dataframe\"><thead><tr><th>positive</th><th>negative</th><th>similar_words</th><th>nb_similar_words</th><th>nb_positive_words</th><th>nb_negative_words</th><th>ratio_positive</th><th>ratio_negative</th><th>ratio_mean</th><th>ratio_diff</th><th>positive_embeddings</th><th>negative_embeddings</th><th>cosine_similarity</th><th>dot_product</th></tr><tr><td>str</td><td>str</td><td>list[str]</td><td>u32</td><td>u32</td><td>u32</td><td>f64</td><td>f64</td><td>f64</td><td>f64</td><td>list[f64]</td><td>list[f64]</td><td>f64</td><td>f64</td></tr></thead><tbody><tr><td>&quot;been given the…</td><td>&quot;whose portrait…</td><td>[&quot;of&quot;, &quot;a&quot;]</td><td>2</td><td>7</td><td>6</td><td>0.285714</td><td>0.333333</td><td>0.309524</td><td>0.047619</td><td>[-0.064453, 0.009811, … 0.000371]</td><td>[-0.022507, 0.034973, … -0.049072]</td><td>0.290701</td><td>0.487754</td></tr></tbody></table></div>"
      ],
      "text/plain": [
       "shape: (1, 14)\n",
       "┌───────────┬───────────┬───────────┬───────────┬───┬───────────┬───────────┬───────────┬──────────┐\n",
       "│ positive  ┆ negative  ┆ similar_w ┆ nb_simila ┆ … ┆ positive_ ┆ negative_ ┆ cosine_si ┆ dot_prod │\n",
       "│ ---       ┆ ---       ┆ ords      ┆ r_words   ┆   ┆ embedding ┆ embedding ┆ milarity  ┆ uct      │\n",
       "│ str       ┆ str       ┆ ---       ┆ ---       ┆   ┆ s         ┆ s         ┆ ---       ┆ ---      │\n",
       "│           ┆           ┆ list[str] ┆ u32       ┆   ┆ ---       ┆ ---       ┆ f64       ┆ f64      │\n",
       "│           ┆           ┆           ┆           ┆   ┆ list[f64] ┆ list[f64] ┆           ┆          │\n",
       "╞═══════════╪═══════════╪═══════════╪═══════════╪═══╪═══════════╪═══════════╪═══════════╪══════════╡\n",
       "│ been      ┆ whose     ┆ [\"of\",    ┆ 2         ┆ … ┆ [-0.06445 ┆ [-0.02250 ┆ 0.290701  ┆ 0.487754 │\n",
       "│ given the ┆ portrait  ┆ \"a\"]      ┆           ┆   ┆ 3,        ┆ 7,        ┆           ┆          │\n",
       "│ drive of  ┆ of a ther ┆           ┆           ┆   ┆ 0.009811, ┆ 0.034973, ┆           ┆          │\n",
       "│ a narrat… ┆ apy-depe… ┆           ┆           ┆   ┆ …         ┆ …         ┆           ┆          │\n",
       "│           ┆           ┆           ┆           ┆   ┆ 0.000371… ┆ -0.04907… ┆           ┆          │\n",
       "└───────────┴───────────┴───────────┴───────────┴───┴───────────┴───────────┴───────────┴──────────┘"
      ]
     },
     "execution_count": 17,
     "metadata": {},
     "output_type": "execute_result"
    }
   ],
   "source": [
    "similar_sentences.head(1)"
   ]
  },
  {
   "cell_type": "code",
   "execution_count": 18,
   "metadata": {},
   "outputs": [],
   "source": [
    "tsne = TSNE(n_components=2, random_state=0)\n",
    "tsne = tsne.fit_transform(np.array(similar_sentences['positive_embeddings'].to_list()))"
   ]
  },
  {
   "cell_type": "code",
   "execution_count": 19,
   "metadata": {},
   "outputs": [],
   "source": [
    "similar_sentences = similar_sentences.with_columns(pl.Series(name = 'positive_tsne', values = tsne))"
   ]
  },
  {
   "cell_type": "code",
   "execution_count": 20,
   "metadata": {},
   "outputs": [],
   "source": [
    "tsne = TSNE(n_components=2, random_state=0)\n",
    "tsne = tsne.fit_transform(np.array(similar_sentences['negative_embeddings'].to_list()))\n",
    "similar_sentences = similar_sentences.with_columns(pl.Series(name = 'negative_tsne', values = tsne))"
   ]
  },
  {
   "cell_type": "code",
   "execution_count": 21,
   "metadata": {},
   "outputs": [],
   "source": [
    "similar_sentences = similar_sentences.with_columns(\n",
    "        similar_sentences\n",
    "        .map_rows(function=lambda t : tuple(cosine_similarity(X=np.array(t[14]).reshape(1, -1), Y=np.array(t[15]).reshape(1, -1)).tolist()))\n",
    "    ).rename({'column_0':'cosine_similarity_tsne'})"
   ]
  },
  {
   "cell_type": "code",
   "execution_count": 22,
   "metadata": {},
   "outputs": [],
   "source": [
    "similar_sentences = similar_sentences.with_columns(\n",
    "        similar_sentences.with_columns(pl.col('positive_embeddings').list.to_array(1024),pl.col('negative_embeddings').list.to_array(1024))\n",
    "        .map_rows(function=lambda t :np.dot(a=t[10], b=np.transpose(t[11])))\n",
    "    ).explode('cosine_similarity_tsne').sort('cosine_similarity_tsne').rename({'map':'dot_product_tsne'})\n"
   ]
  },
  {
   "cell_type": "code",
   "execution_count": 23,
   "metadata": {},
   "outputs": [
    {
     "data": {
      "text/html": [
       "<div><style>\n",
       ".dataframe > thead > tr,\n",
       ".dataframe > tbody > tr {\n",
       "  text-align: right;\n",
       "  white-space: pre-wrap;\n",
       "}\n",
       "</style>\n",
       "<small>shape: (203, 18)</small><table border=\"1\" class=\"dataframe\"><thead><tr><th>positive</th><th>negative</th><th>similar_words</th><th>nb_similar_words</th><th>nb_positive_words</th><th>nb_negative_words</th><th>ratio_positive</th><th>ratio_negative</th><th>ratio_mean</th><th>ratio_diff</th><th>positive_embeddings</th><th>negative_embeddings</th><th>cosine_similarity</th><th>dot_product</th><th>positive_tsne</th><th>negative_tsne</th><th>cosine_similarity_tsne</th><th>dot_product_tsne</th></tr><tr><td>str</td><td>str</td><td>list[str]</td><td>u32</td><td>u32</td><td>u32</td><td>f64</td><td>f64</td><td>f64</td><td>f64</td><td>list[f64]</td><td>list[f64]</td><td>f64</td><td>f64</td><td>list[f32]</td><td>list[f32]</td><td>f64</td><td>f64</td></tr></thead><tbody><tr><td>&quot;comes along ev…</td><td>&quot;, a movie come…</td><td>[&quot;comes&quot;, &quot;along&quot;]</td><td>2</td><td>4</td><td>19</td><td>0.5</td><td>0.105263</td><td>0.302632</td><td>0.394737</td><td>[-0.05835, 0.020416, … -0.026718]</td><td>[-0.025986, 0.035706, … -0.01432]</td><td>0.699435</td><td>0.639692</td><td>[20.111223, -42.441784]</td><td>[-13.082291, 30.125917]</td><td>-0.999461</td><td>0.699593</td></tr><tr><td>&quot;she is a lione…</td><td>&quot;there is nothi…</td><td>[&quot;is&quot;, &quot;a&quot;]</td><td>2</td><td>4</td><td>9</td><td>0.5</td><td>0.222222</td><td>0.361111</td><td>0.277778</td><td>[-0.014496, 0.051514, … -0.021851]</td><td>[0.006077, 0.031219, … -0.02684]</td><td>0.509608</td><td>0.682925</td><td>[13.702863, -20.928885]</td><td>[-44.012165, 62.106968]</td><td>-0.999323</td><td>0.509513</td></tr><tr><td>&quot;the courage of…</td><td>&quot;its body humor…</td><td>[&quot;of&quot;, &quot;its&quot;, &quot;and&quot;]</td><td>3</td><td>11</td><td>7</td><td>0.272727</td><td>0.428571</td><td>0.350649</td><td>0.155844</td><td>[-0.040039, 0.006851, … 0.002014]</td><td>[-0.03595, -0.022583, … -0.0075]</td><td>0.649992</td><td>0.753794</td><td>[0.549366, 39.81934]</td><td>[1.49533, -54.181679]</td><td>-0.999144</td><td>0.649888</td></tr><tr><td>&quot;a work of deft…</td><td>&quot;from a lack of…</td><td>[&quot;a&quot;, &quot;of&quot;, &quot;and&quot;]</td><td>3</td><td>7</td><td>16</td><td>0.428571</td><td>0.1875</td><td>0.308036</td><td>0.241071</td><td>[-0.009293, 0.027191, … -0.012787]</td><td>[-0.033295, 0.056732, … -0.03479]</td><td>0.59018</td><td>0.629949</td><td>[-36.681992, 15.84102]</td><td>[47.747723, -24.536966]</td><td>-0.997754</td><td>0.590322</td></tr><tr><td>&quot;, and enjoyabl…</td><td>&quot;there &#x27;s an ad…</td><td>[&quot;,&quot;, &quot;and&quot;]</td><td>2</td><td>3</td><td>44</td><td>0.666667</td><td>0.045455</td><td>0.356061</td><td>0.621212</td><td>[-0.025253, 0.031738, … 0.035034]</td><td>[-0.023163, -0.005722, … -0.00956]</td><td>0.728776</td><td>0.658083</td><td>[41.603405, 18.622602]</td><td>[-19.696953, -10.765404]</td><td>-0.996856</td><td>0.728667</td></tr><tr><td>&hellip;</td><td>&hellip;</td><td>&hellip;</td><td>&hellip;</td><td>&hellip;</td><td>&hellip;</td><td>&hellip;</td><td>&hellip;</td><td>&hellip;</td><td>&hellip;</td><td>&hellip;</td><td>&hellip;</td><td>&hellip;</td><td>&hellip;</td><td>&hellip;</td><td>&hellip;</td><td>&hellip;</td><td>&hellip;</td></tr><tr><td>&quot;it &#x27;s a talkin…</td><td>&quot;a reworking of…</td><td>[&quot;it&quot;, &quot;&#x27;s&quot;, … &quot;.&quot;]</td><td>5</td><td>12</td><td>17</td><td>0.416667</td><td>0.294118</td><td>0.355392</td><td>0.122549</td><td>[-0.044312, -0.012581, … 0.045502]</td><td>[0.006081, 0.043976, … -0.026474]</td><td>0.739752</td><td>0.648326</td><td>[0.780841, 4.805813]</td><td>[10.734563, 47.947037]</td><td>0.998249</td><td>0.739624</td></tr><tr><td>&quot;in the knowled…</td><td>&quot;i hate the fee…</td><td>[&quot;in&quot;, &quot;the&quot;]</td><td>2</td><td>4</td><td>15</td><td>0.5</td><td>0.133333</td><td>0.316667</td><td>0.366667</td><td>[-0.060089, -0.022842, … -0.039551]</td><td>[-0.030334, 0.023331, … -0.019745]</td><td>0.644675</td><td>0.658123</td><td>[-41.039387, -55.375313]</td><td>[-25.830124, -38.961529]</td><td>0.99863</td><td>0.644656</td></tr><tr><td>&quot;the film speci…</td><td>&quot;the movie , sh…</td><td>[&quot;the&quot;, &quot;film&quot;]</td><td>2</td><td>3</td><td>14</td><td>0.666667</td><td>0.142857</td><td>0.404762</td><td>0.52381</td><td>[0.007713, 0.020432, … -0.026062]</td><td>[0.004478, 0.030258, … -0.02887]</td><td>0.593482</td><td>0.570032</td><td>[-19.338415, 69.04686]</td><td>[-8.848056, 35.546738]</td><td>0.999576</td><td>0.593562</td></tr><tr><td>&quot;a tone that &#x27;s…</td><td>&quot;it &#x27;s still a …</td><td>[&quot;a&quot;, &quot;&#x27;s&quot;, &quot;,&quot;]</td><td>3</td><td>11</td><td>7</td><td>0.272727</td><td>0.428571</td><td>0.350649</td><td>0.155844</td><td>[-0.024658, 0.024399, … 0.012245]</td><td>[-0.048248, -0.029312, … -0.023987]</td><td>0.628629</td><td>0.69051</td><td>[5.892935, -42.199371]</td><td>[4.401486, -39.018162]</td><td>0.999651</td><td>0.628573</td></tr><tr><td>&quot;it &#x27;s a smartl…</td><td>&quot;a bunch of oth…</td><td>[&quot;a&quot;, &quot;,&quot;, … &quot;.&quot;]</td><td>4</td><td>11</td><td>10</td><td>0.363636</td><td>0.4</td><td>0.381818</td><td>0.036364</td><td>[-0.027893, 0.016693, … 0.014977]</td><td>[-0.000744, 0.045654, … -0.005692]</td><td>0.792616</td><td>0.655648</td><td>[-5.639105, 32.418312]</td><td>[-3.441367, 21.947706]</td><td>0.999861</td><td>0.79258</td></tr></tbody></table></div>"
      ],
      "text/plain": [
       "shape: (203, 18)\n",
       "┌───────────┬───────────┬───────────┬───────────┬───┬───────────┬───────────┬───────────┬──────────┐\n",
       "│ positive  ┆ negative  ┆ similar_w ┆ nb_simila ┆ … ┆ positive_ ┆ negative_ ┆ cosine_si ┆ dot_prod │\n",
       "│ ---       ┆ ---       ┆ ords      ┆ r_words   ┆   ┆ tsne      ┆ tsne      ┆ milarity_ ┆ uct_tsne │\n",
       "│ str       ┆ str       ┆ ---       ┆ ---       ┆   ┆ ---       ┆ ---       ┆ tsne      ┆ ---      │\n",
       "│           ┆           ┆ list[str] ┆ u32       ┆   ┆ list[f32] ┆ list[f32] ┆ ---       ┆ f64      │\n",
       "│           ┆           ┆           ┆           ┆   ┆           ┆           ┆ f64       ┆          │\n",
       "╞═══════════╪═══════════╪═══════════╪═══════════╪═══╪═══════════╪═══════════╪═══════════╪══════════╡\n",
       "│ comes     ┆ , a movie ┆ [\"comes\", ┆ 2         ┆ … ┆ [20.11122 ┆ [-13.0822 ┆ -0.999461 ┆ 0.699593 │\n",
       "│ along     ┆ comes     ┆ \"along\"]  ┆           ┆   ┆ 3, -42.44 ┆ 91, 30.12 ┆           ┆          │\n",
       "│ every day ┆ along to  ┆           ┆           ┆   ┆ 1784]     ┆ 5917]     ┆           ┆          │\n",
       "│           ┆ remind …  ┆           ┆           ┆   ┆           ┆           ┆           ┆          │\n",
       "│ she is a  ┆ there is  ┆ [\"is\",    ┆ 2         ┆ … ┆ [13.70286 ┆ [-44.0121 ┆ -0.999323 ┆ 0.509513 │\n",
       "│ lioness   ┆ nothing   ┆ \"a\"]      ┆           ┆   ┆ 3, -20.92 ┆ 65, 62.10 ┆           ┆          │\n",
       "│           ┆ distingui ┆           ┆           ┆   ┆ 8885]     ┆ 6968]     ┆           ┆          │\n",
       "│           ┆ shing …   ┆           ┆           ┆   ┆           ┆           ┆           ┆          │\n",
       "│ the       ┆ its body  ┆ [\"of\",    ┆ 3         ┆ … ┆ [0.549366 ┆ [1.49533, ┆ -0.999144 ┆ 0.649888 │\n",
       "│ courage   ┆ humor and ┆ \"its\",    ┆           ┆   ┆ ,         ┆ -54.18167 ┆           ┆          │\n",
       "│ of its    ┆ reinforce ┆ \"and\"]    ┆           ┆   ┆ 39.81934] ┆ 9]        ┆           ┆          │\n",
       "│ convictio ┆ ment…     ┆           ┆           ┆   ┆           ┆           ┆           ┆          │\n",
       "│ ns a…     ┆           ┆           ┆           ┆   ┆           ┆           ┆           ┆          │\n",
       "│ a work of ┆ from a    ┆ [\"a\",     ┆ 3         ┆ … ┆ [-36.6819 ┆ [47.74772 ┆ -0.997754 ┆ 0.590322 │\n",
       "│ deft and  ┆ lack of   ┆ \"of\",     ┆           ┆   ┆ 92,       ┆ 3, -24.53 ┆           ┆          │\n",
       "│ subtle    ┆ clarity   ┆ \"and\"]    ┆           ┆   ┆ 15.84102] ┆ 6966]     ┆           ┆          │\n",
       "│ poetry    ┆ and       ┆           ┆           ┆   ┆           ┆           ┆           ┆          │\n",
       "│           ┆ audac…    ┆           ┆           ┆   ┆           ┆           ┆           ┆          │\n",
       "│ , and     ┆ there 's  ┆ [\",\",     ┆ 2         ┆ … ┆ [41.60340 ┆ [-19.6969 ┆ -0.996856 ┆ 0.728667 │\n",
       "│ enjoyable ┆ an        ┆ \"and\"]    ┆           ┆   ┆ 5, 18.622 ┆ 53, -10.7 ┆           ┆          │\n",
       "│           ┆ admirable ┆           ┆           ┆   ┆ 602]      ┆ 65404]    ┆           ┆          │\n",
       "│           ┆ rigor to  ┆           ┆           ┆   ┆           ┆           ┆           ┆          │\n",
       "│           ┆ j…        ┆           ┆           ┆   ┆           ┆           ┆           ┆          │\n",
       "│ …         ┆ …         ┆ …         ┆ …         ┆ … ┆ …         ┆ …         ┆ …         ┆ …        │\n",
       "│ it 's a   ┆ a         ┆ [\"it\",    ┆ 5         ┆ … ┆ [0.780841 ┆ [10.73456 ┆ 0.998249  ┆ 0.739624 │\n",
       "│ talking   ┆ reworking ┆ \"'s\", …   ┆           ┆   ┆ ,         ┆ 3, 47.947 ┆           ┆          │\n",
       "│ head docu ┆ of die    ┆ \".\"]      ┆           ┆   ┆ 4.805813] ┆ 037]      ┆           ┆          │\n",
       "│ mentary…  ┆ hard and  ┆           ┆           ┆   ┆           ┆           ┆           ┆          │\n",
       "│           ┆ clif…     ┆           ┆           ┆   ┆           ┆           ┆           ┆          │\n",
       "│ in the    ┆ i hate    ┆ [\"in\",    ┆ 2         ┆ … ┆ [-41.0393 ┆ [-25.8301 ┆ 0.99863   ┆ 0.644656 │\n",
       "│ knowledge ┆ the       ┆ \"the\"]    ┆           ┆   ┆ 87, -55.3 ┆ 24, -38.9 ┆           ┆          │\n",
       "│ imparted  ┆ feeling   ┆           ┆           ┆   ┆ 75313]    ┆ 61529]    ┆           ┆          │\n",
       "│           ┆ of having ┆           ┆           ┆   ┆           ┆           ┆           ┆          │\n",
       "│           ┆ bee…      ┆           ┆           ┆   ┆           ┆           ┆           ┆          │\n",
       "│ the film  ┆ the movie ┆ [\"the\",   ┆ 2         ┆ … ┆ [-19.3384 ┆ [-8.84805 ┆ 0.999576  ┆ 0.593562 │\n",
       "│ special   ┆ , shot on ┆ \"film\"]   ┆           ┆   ┆ 15,       ┆ 6, 35.546 ┆           ┆          │\n",
       "│           ┆ digital   ┆           ┆           ┆   ┆ 69.04686] ┆ 738]      ┆           ┆          │\n",
       "│           ┆ vide…     ┆           ┆           ┆   ┆           ┆           ┆           ┆          │\n",
       "│ a tone    ┆ it 's     ┆ [\"a\",     ┆ 3         ┆ … ┆ [5.892935 ┆ [4.401486 ┆ 0.999651  ┆ 0.628573 │\n",
       "│ that 's   ┆ still a   ┆ \"'s\",     ┆           ┆   ┆ , -42.199 ┆ , -39.018 ┆           ┆          │\n",
       "│ alternate ┆ comic     ┆ \",\"]      ┆           ┆   ┆ 371]      ┆ 162]      ┆           ┆          │\n",
       "│ ly melan… ┆ book ,    ┆           ┆           ┆   ┆           ┆           ┆           ┆          │\n",
       "│ it 's a   ┆ a bunch   ┆ [\"a\",     ┆ 4         ┆ … ┆ [-5.63910 ┆ [-3.44136 ┆ 0.999861  ┆ 0.79258  │\n",
       "│ smartly   ┆ of other  ┆ \",\", …    ┆           ┆   ┆ 5, 32.418 ┆ 7, 21.947 ┆           ┆          │\n",
       "│ directed  ┆ , better  ┆ \".\"]      ┆           ┆   ┆ 312]      ┆ 706]      ┆           ┆          │\n",
       "│ , grown…  ┆ movies…   ┆           ┆           ┆   ┆           ┆           ┆           ┆          │\n",
       "└───────────┴───────────┴───────────┴───────────┴───┴───────────┴───────────┴───────────┴──────────┘"
      ]
     },
     "execution_count": 23,
     "metadata": {},
     "output_type": "execute_result"
    }
   ],
   "source": [
    "similar_sentences.filter(pl.col('ratio_mean').ge(0.3))"
   ]
  },
  {
   "cell_type": "code",
   "execution_count": null,
   "metadata": {},
   "outputs": [],
   "source": []
  }
 ],
 "metadata": {
  "kernelspec": {
   "display_name": "thesis",
   "language": "python",
   "name": "python3"
  },
  "language_info": {
   "codemirror_mode": {
    "name": "ipython",
    "version": 3
   },
   "file_extension": ".py",
   "mimetype": "text/x-python",
   "name": "python",
   "nbconvert_exporter": "python",
   "pygments_lexer": "ipython3",
   "version": "3.11.9"
  }
 },
 "nbformat": 4,
 "nbformat_minor": 2
}
