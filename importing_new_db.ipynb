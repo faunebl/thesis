{
 "cells": [
  {
   "cell_type": "code",
   "execution_count": 45,
   "metadata": {},
   "outputs": [],
   "source": [
    "import polars as pl \n",
    "import seaborn as sns"
   ]
  },
  {
   "cell_type": "code",
   "execution_count": 34,
   "metadata": {},
   "outputs": [],
   "source": [
    "frame = pl.read_parquet(r\"C:\\Users\\faune\\Downloads\\0000.parquet\")"
   ]
  },
  {
   "cell_type": "code",
   "execution_count": 50,
   "metadata": {},
   "outputs": [
    {
     "data": {
      "text/html": [
       "<div><style>\n",
       ".dataframe > thead > tr,\n",
       ".dataframe > tbody > tr {\n",
       "  text-align: right;\n",
       "  white-space: pre-wrap;\n",
       "}\n",
       "</style>\n",
       "<small>shape: (67_349, 2)</small><table border=\"1\" class=\"dataframe\"><thead><tr><th>sentence</th><th>label</th></tr><tr><td>str</td><td>str</td></tr></thead><tbody><tr><td>&quot;hide new secre…</td><td>&quot;negative&quot;</td></tr><tr><td>&quot;contains no wi…</td><td>&quot;negative&quot;</td></tr><tr><td>&quot;that loves its…</td><td>&quot;positive&quot;</td></tr><tr><td>&quot;remains utterl…</td><td>&quot;negative&quot;</td></tr><tr><td>&quot;on the worst r…</td><td>&quot;negative&quot;</td></tr><tr><td>&hellip;</td><td>&hellip;</td></tr><tr><td>&quot;a delightful c…</td><td>&quot;positive&quot;</td></tr><tr><td>&quot;anguish , ange…</td><td>&quot;negative&quot;</td></tr><tr><td>&quot;at achieving t…</td><td>&quot;positive&quot;</td></tr><tr><td>&quot;a patient view…</td><td>&quot;positive&quot;</td></tr><tr><td>&quot;this new jangl…</td><td>&quot;negative&quot;</td></tr></tbody></table></div>"
      ],
      "text/plain": [
       "shape: (67_349, 2)\n",
       "┌───────────────────────────────────┬──────────┐\n",
       "│ sentence                          ┆ label    │\n",
       "│ ---                               ┆ ---      │\n",
       "│ str                               ┆ str      │\n",
       "╞═══════════════════════════════════╪══════════╡\n",
       "│ hide new secretions from the par… ┆ negative │\n",
       "│ contains no wit , only labored g… ┆ negative │\n",
       "│ that loves its characters and co… ┆ positive │\n",
       "│ remains utterly satisfied to rem… ┆ negative │\n",
       "│ on the worst revenge-of-the-nerd… ┆ negative │\n",
       "│ …                                 ┆ …        │\n",
       "│ a delightful comedy               ┆ positive │\n",
       "│ anguish , anger and frustration   ┆ negative │\n",
       "│ at achieving the modest , crowd-… ┆ positive │\n",
       "│ a patient viewer                  ┆ positive │\n",
       "│ this new jangle of noise , mayhe… ┆ negative │\n",
       "└───────────────────────────────────┴──────────┘"
      ]
     },
     "execution_count": 50,
     "metadata": {},
     "output_type": "execute_result"
    }
   ],
   "source": [
    "frame.drop('idx').with_columns(pl.col('label').replace({0:'negative', 1: 'positive'}))"
   ]
  },
  {
   "cell_type": "code",
   "execution_count": 55,
   "metadata": {},
   "outputs": [
    {
     "data": {
      "text/plain": [
       "<Axes: xlabel='label', ylabel='Count'>"
      ]
     },
     "execution_count": 55,
     "metadata": {},
     "output_type": "execute_result"
    },
    {
     "data": {
      "image/png": "[encoded data removed]",
      "text/plain": [
       "<Figure size 640x480 with 1 Axes>"
      ]
     },
     "metadata": {},
     "output_type": "display_data"
    }
   ],
   "source": [
    "sns.histplot(data = frame.drop('idx').with_columns(pl.col('label').replace({0:'negative', 1: 'positive'})), x='label', shrink=.5) #.pivot(values='sentence', index='idx', columns='label').drop('idx').describe()"
   ]
  },
  {
   "cell_type": "code",
   "execution_count": 59,
   "metadata": {},
   "outputs": [
    {
     "data": {
      "text/html": [
       "<div><style>\n",
       ".dataframe > thead > tr,\n",
       ".dataframe > tbody > tr {\n",
       "  text-align: right;\n",
       "  white-space: pre-wrap;\n",
       "}\n",
       "</style>\n",
       "<small>shape: (9, 3)</small><table border=\"1\" class=\"dataframe\"><thead><tr><th>statistic</th><th>0</th><th>1</th></tr><tr><td>str</td><td>str</td><td>str</td></tr></thead><tbody><tr><td>&quot;count&quot;</td><td>&quot;29780&quot;</td><td>&quot;37569&quot;</td></tr><tr><td>&quot;null_count&quot;</td><td>&quot;37569&quot;</td><td>&quot;29780&quot;</td></tr><tr><td>&quot;mean&quot;</td><td>null</td><td>null</td></tr><tr><td>&quot;std&quot;</td><td>null</td><td>null</td></tr><tr><td>&quot;min&quot;</td><td>&quot;$ 99 bargain-b…</td><td>&quot;$ 1.8 million …</td></tr><tr><td>&quot;25%&quot;</td><td>null</td><td>null</td></tr><tr><td>&quot;50%&quot;</td><td>null</td><td>null</td></tr><tr><td>&quot;75%&quot;</td><td>null</td><td>null</td></tr><tr><td>&quot;max&quot;</td><td>&quot;zzzzzzzzz &quot;</td><td>&quot;zoom ! &quot;</td></tr></tbody></table></div>"
      ],
      "text/plain": [
       "shape: (9, 3)\n",
       "┌────────────┬────────────────────────────────┬────────────────────────┐\n",
       "│ statistic  ┆ 0                              ┆ 1                      │\n",
       "│ ---        ┆ ---                            ┆ ---                    │\n",
       "│ str        ┆ str                            ┆ str                    │\n",
       "╞════════════╪════════════════════════════════╪════════════════════════╡\n",
       "│ count      ┆ 29780                          ┆ 37569                  │\n",
       "│ null_count ┆ 37569                          ┆ 29780                  │\n",
       "│ mean       ┆ null                           ┆ null                   │\n",
       "│ std        ┆ null                           ┆ null                   │\n",
       "│ min        ┆ $ 99 bargain-basement special  ┆ $ 1.8 million charmer  │\n",
       "│ 25%        ┆ null                           ┆ null                   │\n",
       "│ 50%        ┆ null                           ┆ null                   │\n",
       "│ 75%        ┆ null                           ┆ null                   │\n",
       "│ max        ┆ zzzzzzzzz                      ┆ zoom !                 │\n",
       "└────────────┴────────────────────────────────┴────────────────────────┘"
      ]
     },
     "execution_count": 59,
     "metadata": {},
     "output_type": "execute_result"
    }
   ],
   "source": [
    "frame.pivot(values='sentence', index='idx', columns='label').drop('idx').describe()"
   ]
  },
  {
   "cell_type": "code",
   "execution_count": 98,
   "metadata": {},
   "outputs": [
    {
     "data": {
      "text/html": [
       "<div><style>\n",
       ".dataframe > thead > tr,\n",
       ".dataframe > tbody > tr {\n",
       "  text-align: right;\n",
       "  white-space: pre-wrap;\n",
       "}\n",
       "</style>\n",
       "<small>shape: (168, 10)</small><table border=\"1\" class=\"dataframe\"><thead><tr><th>positive</th><th>negative</th><th>similar_words</th><th>nb_similar_words</th><th>nb_positive_words</th><th>nb_negative_words</th><th>ratio_positive</th><th>ratio_negative</th><th>ratio_mean</th><th>ratio_diff</th></tr><tr><td>str</td><td>str</td><td>list[str]</td><td>u32</td><td>u32</td><td>u32</td><td>f64</td><td>f64</td><td>f64</td><td>f64</td></tr></thead><tbody><tr><td>&quot;so real &quot;</td><td>&quot;so low &quot;</td><td>[&quot;so&quot;, &quot;&quot;]</td><td>2</td><td>3</td><td>3</td><td>0.666667</td><td>0.666667</td><td>0.666667</td><td>0.0</td></tr><tr><td>&quot;a warmth &quot;</td><td>&quot;a waste &quot;</td><td>[&quot;a&quot;, &quot;&quot;]</td><td>2</td><td>3</td><td>3</td><td>0.666667</td><td>0.666667</td><td>0.666667</td><td>0.0</td></tr><tr><td>&quot;of the film &#x27;s…</td><td>&quot;the film &#x27;s th…</td><td>[&quot;the&quot;, &quot;film&quot;, … &quot;&quot;]</td><td>4</td><td>7</td><td>7</td><td>0.571429</td><td>0.571429</td><td>0.571429</td><td>0.0</td></tr><tr><td>&quot;the tooth and …</td><td>&quot;through the pi…</td><td>[&quot;the&quot;, &quot;and&quot;, … &quot;&quot;]</td><td>4</td><td>8</td><td>8</td><td>0.5</td><td>0.5</td><td>0.5</td><td>0.0</td></tr><tr><td>&quot;suspense , int…</td><td>&quot;coarse , clich…</td><td>[&quot;,&quot;, &quot;and&quot;, &quot;&quot;]</td><td>3</td><td>6</td><td>6</td><td>0.5</td><td>0.5</td><td>0.5</td><td>0.0</td></tr><tr><td>&hellip;</td><td>&hellip;</td><td>&hellip;</td><td>&hellip;</td><td>&hellip;</td><td>&hellip;</td><td>&hellip;</td><td>&hellip;</td><td>&hellip;</td><td>&hellip;</td></tr><tr><td>&quot;and sublime mu…</td><td>&quot;go unnoticed a…</td><td>[&quot;and&quot;, &quot;music&quot;, &quot;&quot;]</td><td>3</td><td>4</td><td>8</td><td>0.75</td><td>0.375</td><td>0.5625</td><td>0.375</td></tr><tr><td>&quot;is so fine &quot;</td><td>&quot;her real-life …</td><td>[&quot;is&quot;, &quot;so&quot;, &quot;&quot;]</td><td>3</td><td>4</td><td>9</td><td>0.75</td><td>0.333333</td><td>0.541667</td><td>0.416667</td></tr><tr><td>&quot;such a buoyant…</td><td>&quot;such a tragedy…</td><td>[&quot;such&quot;, &quot;a&quot;, &quot;&quot;]</td><td>3</td><td>9</td><td>4</td><td>0.333333</td><td>0.75</td><td>0.541667</td><td>0.416667</td></tr><tr><td>&quot;, this is the …</td><td>&quot;is advised to …</td><td>[&quot;,&quot;, &quot;is&quot;, … &quot;&quot;]</td><td>5</td><td>7</td><td>17</td><td>0.714286</td><td>0.294118</td><td>0.504202</td><td>0.420168</td></tr><tr><td>&quot;in that sense …</td><td>&quot;a boring movie…</td><td>[&quot;a&quot;, &quot;movie&quot;, &quot;&quot;]</td><td>3</td><td>10</td><td>4</td><td>0.3</td><td>0.75</td><td>0.525</td><td>0.45</td></tr></tbody></table></div>"
      ],
      "text/plain": [
       "shape: (168, 10)\n",
       "┌───────────┬───────────┬───────────┬───────────┬───┬───────────┬───────────┬───────────┬──────────┐\n",
       "│ positive  ┆ negative  ┆ similar_w ┆ nb_simila ┆ … ┆ ratio_pos ┆ ratio_neg ┆ ratio_mea ┆ ratio_di │\n",
       "│ ---       ┆ ---       ┆ ords      ┆ r_words   ┆   ┆ itive     ┆ ative     ┆ n         ┆ ff       │\n",
       "│ str       ┆ str       ┆ ---       ┆ ---       ┆   ┆ ---       ┆ ---       ┆ ---       ┆ ---      │\n",
       "│           ┆           ┆ list[str] ┆ u32       ┆   ┆ f64       ┆ f64       ┆ f64       ┆ f64      │\n",
       "╞═══════════╪═══════════╪═══════════╪═══════════╪═══╪═══════════╪═══════════╪═══════════╪══════════╡\n",
       "│ so real   ┆ so low    ┆ [\"so\",    ┆ 2         ┆ … ┆ 0.666667  ┆ 0.666667  ┆ 0.666667  ┆ 0.0      │\n",
       "│           ┆           ┆ \"\"]       ┆           ┆   ┆           ┆           ┆           ┆          │\n",
       "│ a warmth  ┆ a waste   ┆ [\"a\", \"\"] ┆ 2         ┆ … ┆ 0.666667  ┆ 0.666667  ┆ 0.666667  ┆ 0.0      │\n",
       "│ of the    ┆ the film  ┆ [\"the\",   ┆ 4         ┆ … ┆ 0.571429  ┆ 0.571429  ┆ 0.571429  ┆ 0.0      │\n",
       "│ film 's   ┆ 's thorou ┆ \"film\", … ┆           ┆   ┆           ┆           ┆           ┆          │\n",
       "│ cheeky    ┆ ghly      ┆ \"\"]       ┆           ┆   ┆           ┆           ┆           ┆          │\n",
       "│ charm     ┆ recycled  ┆           ┆           ┆   ┆           ┆           ┆           ┆          │\n",
       "│           ┆ …         ┆           ┆           ┆   ┆           ┆           ┆           ┆          │\n",
       "│ the tooth ┆ through   ┆ [\"the\",   ┆ 4         ┆ … ┆ 0.5       ┆ 0.5       ┆ 0.5       ┆ 0.0      │\n",
       "│ and claw  ┆ the       ┆ \"and\", …  ┆           ┆   ┆           ┆           ┆           ┆          │\n",
       "│ of human  ┆ pitfalls  ┆ \"\"]       ┆           ┆   ┆           ┆           ┆           ┆          │\n",
       "│ powe…     ┆ of        ┆           ┆           ┆   ┆           ┆           ┆           ┆          │\n",
       "│           ┆ incohere… ┆           ┆           ┆   ┆           ┆           ┆           ┆          │\n",
       "│ suspense  ┆ coarse ,  ┆ [\",\",     ┆ 3         ┆ … ┆ 0.5       ┆ 0.5       ┆ 0.5       ┆ 0.0      │\n",
       "│ , intrigu ┆ cliched   ┆ \"and\",    ┆           ┆   ┆           ┆           ┆           ┆          │\n",
       "│ ing chara ┆ and       ┆ \"\"]       ┆           ┆   ┆           ┆           ┆           ┆          │\n",
       "│ cters…    ┆ clunky    ┆           ┆           ┆   ┆           ┆           ┆           ┆          │\n",
       "│ …         ┆ …         ┆ …         ┆ …         ┆ … ┆ …         ┆ …         ┆ …         ┆ …        │\n",
       "│ and       ┆ go        ┆ [\"and\",   ┆ 3         ┆ … ┆ 0.75      ┆ 0.375     ┆ 0.5625    ┆ 0.375    │\n",
       "│ sublime   ┆ unnoticed ┆ \"music\",  ┆           ┆   ┆           ┆           ┆           ┆          │\n",
       "│ music     ┆ and under ┆ \"\"]       ┆           ┆   ┆           ┆           ┆           ┆          │\n",
       "│           ┆ appreciat ┆           ┆           ┆   ┆           ┆           ┆           ┆          │\n",
       "│           ┆ e…        ┆           ┆           ┆   ┆           ┆           ┆           ┆          │\n",
       "│ is so     ┆ her       ┆ [\"is\",    ┆ 3         ┆ … ┆ 0.75      ┆ 0.333333  ┆ 0.541667  ┆ 0.416667 │\n",
       "│ fine      ┆ real-life ┆ \"so\", \"\"] ┆           ┆   ┆           ┆           ┆           ┆          │\n",
       "│           ┆ persona   ┆           ┆           ┆   ┆           ┆           ┆           ┆          │\n",
       "│           ┆ is so     ┆           ┆           ┆   ┆           ┆           ┆           ┆          │\n",
       "│           ┆ char…     ┆           ┆           ┆   ┆           ┆           ┆           ┆          │\n",
       "│ such a    ┆ such a    ┆ [\"such\",  ┆ 3         ┆ … ┆ 0.333333  ┆ 0.75      ┆ 0.541667  ┆ 0.416667 │\n",
       "│ buoyant , ┆ tragedy   ┆ \"a\", \"\"]  ┆           ┆   ┆           ┆           ┆           ┆          │\n",
       "│ expressiv ┆           ┆           ┆           ┆   ┆           ┆           ┆           ┆          │\n",
       "│ e flow…   ┆           ┆           ┆           ┆   ┆           ┆           ┆           ┆          │\n",
       "│ , this is ┆ is        ┆ [\",\",     ┆ 5         ┆ … ┆ 0.714286  ┆ 0.294118  ┆ 0.504202  ┆ 0.420168 │\n",
       "│ the one . ┆ advised   ┆ \"is\", …   ┆           ┆   ┆           ┆           ┆           ┆          │\n",
       "│           ┆ to take   ┆ \"\"]       ┆           ┆   ┆           ┆           ┆           ┆          │\n",
       "│           ┆ the       ┆           ┆           ┆   ┆           ┆           ┆           ┆          │\n",
       "│           ┆ warning   ┆           ┆           ┆   ┆           ┆           ┆           ┆          │\n",
       "│           ┆ l…        ┆           ┆           ┆   ┆           ┆           ┆           ┆          │\n",
       "│ in that   ┆ a boring  ┆ [\"a\",     ┆ 3         ┆ … ┆ 0.3       ┆ 0.75      ┆ 0.525     ┆ 0.45     │\n",
       "│ sense is  ┆ movie     ┆ \"movie\",  ┆           ┆   ┆           ┆           ┆           ┆          │\n",
       "│ a movie   ┆           ┆ \"\"]       ┆           ┆   ┆           ┆           ┆           ┆          │\n",
       "│ that de…  ┆           ┆           ┆           ┆   ┆           ┆           ┆           ┆          │\n",
       "└───────────┴───────────┴───────────┴───────────┴───┴───────────┴───────────┴───────────┴──────────┘"
      ]
     },
     "execution_count": 98,
     "metadata": {},
     "output_type": "execute_result"
    }
   ],
   "source": [
    "(\n",
    "    frame\n",
    "    .drop('idx')\n",
    "    .with_columns(pl.col('label').replace({0:'negative', 1: 'positive'}))\n",
    "    .sort('label', descending=True)\n",
    "    .unstack(step=37569, how=\"vertical\", columns='sentence')\n",
    "    .rename({'sentence_0': 'positive', 'sentence_1':'negative'})\n",
    "    .with_columns(pl.col('*').str.split(' '))\n",
    "    .with_columns(pl.col('positive').list.set_intersection('negative').alias('similar_words'))\n",
    "    .with_columns(pl.col('similar_words').list.len().alias('nb_similar_words'))\n",
    "    .with_columns(pl.col('positive').list.len().alias('nb_positive_words'))\n",
    "    .with_columns(pl.col('negative').list.len().alias('nb_negative_words'))\n",
    "    .sort(['nb_positive_words', 'nb_negative_words'])\n",
    "    .with_columns(pl.col('nb_similar_words').truediv(pl.col('nb_positive_words')).alias('ratio_positive'))\n",
    "    .with_columns(pl.col('nb_similar_words').truediv(pl.col('nb_negative_words')).alias('ratio_negative'))\n",
    "    .with_columns(pl.mean_horizontal(pl.col('ratio_positive'), pl.col('ratio_negative')).alias('ratio_mean'))\n",
    "    .with_columns(pl.col('ratio_positive').sub(pl.col('ratio_negative')).abs().alias('ratio_diff'))\n",
    "    .sort(pl.col('similar_words').list.len(), descending=True)\n",
    "    # .with_columns(pl.col('nb_similar_words').replace({0: None, 1: None}))\n",
    "    # .drop_nulls(subset='nb_similar_words')\n",
    "    .sort('ratio_mean', descending=True)\n",
    "    .sort('ratio_diff')\n",
    "    .with_columns(pl.col('positive').list.join(' '))\n",
    "    .with_columns(pl.col('negative').list.join(' '))\n",
    "    .filter(pl.col('ratio_mean').ge(0.5), pl.col('ratio_diff').le(0.5))\n",
    ")"
   ]
  },
  {
   "cell_type": "code",
   "execution_count": 10,
   "metadata": {},
   "outputs": [
    {
     "data": {
      "text/html": [
       "<div><style>\n",
       ".dataframe > thead > tr,\n",
       ".dataframe > tbody > tr {\n",
       "  text-align: right;\n",
       "  white-space: pre-wrap;\n",
       "}\n",
       "</style>\n",
       "<small>shape: (3, 5)</small><table border=\"1\" class=\"dataframe\"><thead><tr><th>feature_idx</th><th>name</th><th>dtype</th><th>_type</th><th>names</th></tr><tr><td>i64</td><td>str</td><td>str</td><td>str</td><td>list[str]</td></tr></thead><tbody><tr><td>0</td><td>&quot;idx&quot;</td><td>&quot;int32&quot;</td><td>&quot;Value&quot;</td><td>null</td></tr><tr><td>1</td><td>&quot;sentence&quot;</td><td>&quot;string&quot;</td><td>&quot;Value&quot;</td><td>null</td></tr><tr><td>2</td><td>&quot;label&quot;</td><td>null</td><td>&quot;ClassLabel&quot;</td><td>[&quot;negative&quot;, &quot;positive&quot;]</td></tr></tbody></table></div>"
      ],
      "text/plain": [
       "shape: (3, 5)\n",
       "┌─────────────┬──────────┬────────┬────────────┬──────────────────────────┐\n",
       "│ feature_idx ┆ name     ┆ dtype  ┆ _type      ┆ names                    │\n",
       "│ ---         ┆ ---      ┆ ---    ┆ ---        ┆ ---                      │\n",
       "│ i64         ┆ str      ┆ str    ┆ str        ┆ list[str]                │\n",
       "╞═════════════╪══════════╪════════╪════════════╪══════════════════════════╡\n",
       "│ 0           ┆ idx      ┆ int32  ┆ Value      ┆ null                     │\n",
       "│ 1           ┆ sentence ┆ string ┆ Value      ┆ null                     │\n",
       "│ 2           ┆ label    ┆ null   ┆ ClassLabel ┆ [\"negative\", \"positive\"] │\n",
       "└─────────────┴──────────┴────────┴────────────┴──────────────────────────┘"
      ]
     },
     "execution_count": 10,
     "metadata": {},
     "output_type": "execute_result"
    }
   ],
   "source": [
    "pl.DataFrame(req.json()['features']).unnest('type')"
   ]
  },
  {
   "cell_type": "code",
   "execution_count": null,
   "metadata": {},
   "outputs": [],
   "source": []
  }
 ],
 "metadata": {
  "kernelspec": {
   "display_name": "thesis",
   "language": "python",
   "name": "python3"
  },
  "language_info": {
   "codemirror_mode": {
    "name": "ipython",
    "version": 3
   },
   "file_extension": ".py",
   "mimetype": "text/x-python",
   "name": "python",
   "nbconvert_exporter": "python",
   "pygments_lexer": "ipython3",
   "version": "3.11.9"
  }
 },
 "nbformat": 4,
 "nbformat_minor": 2
}
