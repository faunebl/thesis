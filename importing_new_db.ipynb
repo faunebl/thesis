{
 "cells": [
  {
   "cell_type": "code",
   "execution_count": null,
   "metadata": {},
   "outputs": [],
   "source": [
    "import polars as pl \n",
    "import polars.selectors as cs\n",
    "import seaborn as sns\n",
    "import utils\n",
    "import get_data\n",
    "from sklearn.metrics.pairwise import cosine_similarity\n",
    "import numpy as np\n",
    "from sklearn.manifold import TSNE\n",
    "import itertools"
   ]
  },
  {
   "cell_type": "code",
   "execution_count": null,
   "metadata": {},
   "outputs": [],
   "source": [
    "frame = pl.read_parquet(r\"C:\\Users\\faune\\Downloads\\0000.parquet\")"
   ]
  },
  {
   "cell_type": "code",
   "execution_count": null,
   "metadata": {},
   "outputs": [],
   "source": [
    "to_compare = (\n",
    "    frame\n",
    "    .drop('idx')\n",
    "    .with_columns(pl.col('label')\n",
    "    .replace({0:'negative', 1: 'positive'}))\n",
    "    .sort('label', descending=True)\n",
    "    .unstack(step=37569, how=\"vertical\", columns='sentence')\n",
    "    .rename({'sentence_0': 'positive', 'sentence_1':'negative'})\n",
    ")"
   ]
  },
  {
   "cell_type": "code",
   "execution_count": null,
   "metadata": {},
   "outputs": [],
   "source": [
    "negative = to_compare.select('negative').drop_nulls().to_series().to_list()\n",
    "positive = to_compare.select('positive').drop_nulls().to_series().to_list()"
   ]
  },
  {
   "cell_type": "code",
   "execution_count": null,
   "metadata": {},
   "outputs": [],
   "source": [
    "map_neg = map(lambda x: set(x.strip().split(' ')), negative)\n",
    "map_pos = map(lambda x: set(x.strip().split(' ')), positive)"
   ]
  },
  {
   "cell_type": "code",
   "execution_count": 101,
   "metadata": {},
   "outputs": [
    {
     "data": {
      "text/html": [
       "<div><style>\n",
       ".dataframe > thead > tr,\n",
       ".dataframe > tbody > tr {\n",
       "  text-align: right;\n",
       "  white-space: pre-wrap;\n",
       "}\n",
       "</style>\n",
       "<small>shape: (37_569, 2)</small><table border=\"1\" class=\"dataframe\"><thead><tr><th>positive</th><th>negative</th></tr><tr><td>str</td><td>str</td></tr></thead><tbody><tr><td>&quot;that loves its…</td><td>&quot;hide new secre…</td></tr><tr><td>&quot;demonstrates t…</td><td>&quot;contains no wi…</td></tr><tr><td>&quot;of saucy &quot;</td><td>&quot;remains utterl…</td></tr><tr><td>&quot;are more deepl…</td><td>&quot;on the worst r…</td></tr><tr><td>&quot;the greatest m…</td><td>&quot;that &#x27;s far to…</td></tr><tr><td>&hellip;</td><td>&hellip;</td></tr><tr><td>&quot;at least passa…</td><td>null</td></tr><tr><td>&quot;showing off hi…</td><td>null</td></tr><tr><td>&quot;a delightful c…</td><td>null</td></tr><tr><td>&quot;at achieving t…</td><td>null</td></tr><tr><td>&quot;a patient view…</td><td>null</td></tr></tbody></table></div>"
      ],
      "text/plain": [
       "shape: (37_569, 2)\n",
       "┌───────────────────────────────────┬───────────────────────────────────┐\n",
       "│ positive                          ┆ negative                          │\n",
       "│ ---                               ┆ ---                               │\n",
       "│ str                               ┆ str                               │\n",
       "╞═══════════════════════════════════╪═══════════════════════════════════╡\n",
       "│ that loves its characters and co… ┆ hide new secretions from the par… │\n",
       "│ demonstrates that the director o… ┆ contains no wit , only labored g… │\n",
       "│ of saucy                          ┆ remains utterly satisfied to rem… │\n",
       "│ are more deeply thought through … ┆ on the worst revenge-of-the-nerd… │\n",
       "│ the greatest musicians            ┆ that 's far too tragic to merit … │\n",
       "│ …                                 ┆ …                                 │\n",
       "│ at least passably                 ┆ null                              │\n",
       "│ showing off his doctorate         ┆ null                              │\n",
       "│ a delightful comedy               ┆ null                              │\n",
       "│ at achieving the modest , crowd-… ┆ null                              │\n",
       "│ a patient viewer                  ┆ null                              │\n",
       "└───────────────────────────────────┴───────────────────────────────────┘"
      ]
     },
     "execution_count": 101,
     "metadata": {},
     "output_type": "execute_result"
    }
   ],
   "source": [
    "to_compare"
   ]
  },
  {
   "cell_type": "code",
   "execution_count": null,
   "metadata": {},
   "outputs": [],
   "source": [
    "# list(filter(lambda i: len(i.intersection(list(map_neg)[0]))==max(map(lambda x,y : len(x.intersection(y)), itertools.repeat(list(map_neg)[0]), map_pos)), map_pos))"
   ]
  },
  {
   "cell_type": "code",
   "execution_count": null,
   "metadata": {},
   "outputs": [],
   "source": [
    "for i in map_neg:   \n",
    "    print(list(filter(\n",
    "        lambda y: len(y.intersection(i))==max(map(lambda x : len(x.intersection(i)),  map_pos)), \n",
    "        map_pos)))"
   ]
  },
  {
   "cell_type": "code",
   "execution_count": null,
   "metadata": {},
   "outputs": [],
   "source": [
    "for i in map_neg:\n",
    "    to_match = set(i.strip().split(' '))\n",
    "    for j in positive:\n",
    "        set(i.strip().split(' '))"
   ]
  },
  {
   "cell_type": "code",
   "execution_count": 98,
   "metadata": {},
   "outputs": [],
   "source": [
    "map_neg = map(lambda x: {'sentence' :x, 'set': set(x.strip().split(' '))}, negative)\n",
    "map_pos = map(lambda x: {x : set(x.strip().split(' '))}, positive)\n",
    "# max_intersection_length = max(len(i.intersection(j)) for i in map_neg for j in map_pos)\n",
    "# result = [j for i in map_neg for j in map_pos if len(i.intersection(j)) == max_intersection_length]\n"
   ]
  },
  {
   "cell_type": "code",
   "execution_count": 100,
   "metadata": {},
   "outputs": [
    {
     "data": {
      "text/html": [
       "<div><style>\n",
       ".dataframe > thead > tr,\n",
       ".dataframe > tbody > tr {\n",
       "  text-align: right;\n",
       "  white-space: pre-wrap;\n",
       "}\n",
       "</style>\n",
       "<small>shape: (0, 0)</small><table border=\"1\" class=\"dataframe\"><thead><tr></tr><tr></tr></thead><tbody></tbody></table></div>"
      ],
      "text/plain": [
       "shape: (0, 0)\n",
       "┌┐\n",
       "╞╡\n",
       "└┘"
      ]
     },
     "execution_count": 100,
     "metadata": {},
     "output_type": "execute_result"
    }
   ],
   "source": [
    "pl.DataFrame(list(map_neg))"
   ]
  },
  {
   "cell_type": "code",
   "execution_count": null,
   "metadata": {},
   "outputs": [],
   "source": [
    "similar_sentences = similar_sentences.with_columns(\n",
    "            pl.Series(\n",
    "                name= 'positive_embeddings', \n",
    "                values= get_data._get_embeddings_by_chunks(similar_sentences.select('positive').to_series().to_list(), 50)\n",
    "            )\n",
    "        ).with_columns(\n",
    "            pl.Series(\n",
    "                name= 'negative_embeddings', \n",
    "                values= get_data._get_embeddings_by_chunks(similar_sentences.select('negative').to_series().to_list(), 50)\n",
    "            )\n",
    "        )"
   ]
  },
  {
   "cell_type": "code",
   "execution_count": null,
   "metadata": {},
   "outputs": [],
   "source": [
    "similar_sentences = (\n",
    "    similar_sentences\n",
    "    .with_columns(\n",
    "        similar_sentences.with_columns(pl.col('positive_embeddings').list.to_array(1024),pl.col('negative_embeddings').list.to_array(1024))\n",
    "        .map_rows(function=lambda t : tuple(cosine_similarity(X=np.array(t[10]).reshape(1, -1), Y=np.array(t[11]).reshape(1, -1)).tolist()))\n",
    "    )\n",
    "    .explode('column_0')\n",
    "    .sort('column_0')\n",
    "    .rename({'column_0': 'cosine_similarity'})\n",
    "    .with_columns(\n",
    "        similar_sentences.with_columns(pl.col('positive_embeddings').list.to_array(1024),pl.col('negative_embeddings').list.to_array(1024))\n",
    "        .map_rows(function=lambda t :np.dot(a=t[10], b=np.transpose(t[11])))\n",
    "    )\n",
    "    .rename({'map': 'dot_product'})\n",
    "    .sort('cosine_similarity')\n",
    "    # .sort(['dot_product', 'cosine_similarity'])\n",
    ")"
   ]
  }
 ],
 "metadata": {
  "kernelspec": {
   "display_name": "thesis",
   "language": "python",
   "name": "python3"
  },
  "language_info": {
   "codemirror_mode": {
    "name": "ipython",
    "version": 3
   },
   "file_extension": ".py",
   "mimetype": "text/x-python",
   "name": "python",
   "nbconvert_exporter": "python",
   "pygments_lexer": "ipython3",
   "version": "3.11.9"
  }
 },
 "nbformat": 4,
 "nbformat_minor": 2
}
