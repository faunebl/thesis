{
 "cells": [
  {
   "cell_type": "code",
   "execution_count": 18,
   "metadata": {},
   "outputs": [],
   "source": [
    "import polars as pl \n",
    "import polars.selectors as cs\n",
    "import seaborn as sns\n",
    "import utils\n",
    "import get_data\n",
    "from sklearn.metrics.pairwise import cosine_similarity\n",
    "from sklearn.preprocessing import StandardScaler\n",
    "import numpy as np\n",
    "from sklearn.manifold import TSNE\n",
    "import itertools\n",
    "import umap \n",
    "from sklearn.cluster import KMeans\n",
    "from sklearn.metrics import rand_score, adjusted_mutual_info_score, mutual_info_score, adjusted_rand_score"
   ]
  },
  {
   "cell_type": "code",
   "execution_count": null,
   "metadata": {},
   "outputs": [],
   "source": [
    "reducer = umap.UMAP()"
   ]
  },
  {
   "cell_type": "code",
   "execution_count": 5,
   "metadata": {},
   "outputs": [],
   "source": [
    "frame = pl.read_parquet(r\"C:\\Users\\faune\\Desktop\\thesis\\stanford_sentiment.parquet\")"
   ]
  },
  {
   "cell_type": "code",
   "execution_count": 13,
   "metadata": {},
   "outputs": [],
   "source": [
    "kmeans = KMeans(n_clusters=2)\n",
    "frame = frame.with_columns(\n",
    "    pl.Series(\n",
    "        name= 'clusters',\n",
    "        values= kmeans.fit_predict(frame.select('embeddings').to_series().to_list())\n",
    "    )\n",
    ")"
   ]
  },
  {
   "cell_type": "code",
   "execution_count": 22,
   "metadata": {},
   "outputs": [
    {
     "name": "stdout",
     "output_type": "stream",
     "text": [
      "rand score 0.8613028432987012\n",
      "adjusted rand score 0.7225388486397475\n",
      "adjusted mutual info score 0.6131038139937539\n",
      "mutual info score 0.42014517791294226\n"
     ]
    }
   ],
   "source": [
    "print( 'rand score', rand_score(labels_true=frame.select('label').to_series().to_list(), labels_pred=frame.select('clusters').to_series().to_list()))\n",
    "print( 'adjusted rand score', adjusted_rand_score(labels_true=frame.select('label').to_series().to_list(), labels_pred=frame.select('clusters').to_series().to_list()))\n",
    "print('adjusted mutual info score', adjusted_mutual_info_score(labels_true=frame.select('label').to_series().to_list(), labels_pred=frame.select('clusters').to_series().to_list()))\n",
    "print('mutual info score', mutual_info_score(labels_true=frame.select('label').to_series().to_list(), labels_pred=frame.select('clusters').to_series().to_list()))"
   ]
  }
 ],
 "metadata": {
  "kernelspec": {
   "display_name": "thesis",
   "language": "python",
   "name": "python3"
  },
  "language_info": {
   "codemirror_mode": {
    "name": "ipython",
    "version": 3
   },
   "file_extension": ".py",
   "mimetype": "text/x-python",
   "name": "python",
   "nbconvert_exporter": "python",
   "pygments_lexer": "ipython3",
   "version": "3.11.9"
  }
 },
 "nbformat": 4,
 "nbformat_minor": 2
}
