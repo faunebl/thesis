{
 "cells": [
  {
   "cell_type": "code",
   "execution_count": 1,
   "metadata": {},
   "outputs": [],
   "source": [
    "import phoenix as px \n",
    "from arize.pandas.embeddings import EmbeddingGenerator\n",
    "\n",
    "import polars as pl\n",
    "import get_data"
   ]
  },
  {
   "cell_type": "code",
   "execution_count": 24,
   "metadata": {},
   "outputs": [],
   "source": [
    "# EmbeddingGenerator.list_pretrained_models()"
   ]
  },
  {
   "cell_type": "code",
   "execution_count": 25,
   "metadata": {},
   "outputs": [],
   "source": [
    "labelled_frame = get_data.import_sentences(dated=False, consensus='50')"
   ]
  },
  {
   "cell_type": "code",
   "execution_count": 26,
   "metadata": {},
   "outputs": [
    {
     "name": "stdout",
     "output_type": "stream",
     "text": [
      "\u001b[33m  arize.utils.logging | WARNING | No available GPU has been detected. The use of GPU acceleration is strongly recommended. You can check for GPU availability by running `torch.cuda.is_available()`\u001b[0m\n",
      "\u001b[38;21m  arize.utils.logging | INFO | Downloading pre-trained model 'distilbert-base-uncased'\u001b[0m\n",
      "\u001b[38;21m  arize.utils.logging | INFO | Downloading tokenizer for 'distilbert-base-uncased'\u001b[0m\n",
      "\u001b[38;21m  arize.utils.logging | INFO | Generating embedding vectors\u001b[0m\n"
     ]
    },
    {
     "name": "stderr",
     "output_type": "stream",
     "text": [
      "Map: 100%|██████████| 4729/4729 [07:45<00:00, 10.16 examples/s]\n"
     ]
    }
   ],
   "source": [
    "from arize.pandas.embeddings import EmbeddingGenerator, UseCases\n",
    "\n",
    "generator = EmbeddingGenerator.from_use_case(\n",
    "    use_case=UseCases.NLP.SEQUENCE_CLASSIFICATION,\n",
    "    model_name=\"distilbert-base-uncased\",\n",
    "    tokenizer_max_length=512,\n",
    "    batch_size=100\n",
    ")\n",
    "# labelled_frame = (\n",
    "#     labelled_frame.\n",
    "#     with_columns(embeddings = generator.generate_embeddings(text_col=labelled_frame.collect().to_pandas()['sentences']))\n",
    "# )\n",
    "df = labelled_frame.collect().to_pandas()\n",
    "df[\"text_vector\"] = generator.generate_embeddings(text_col=df[\"sentences\"])"
   ]
  },
  {
   "cell_type": "code",
   "execution_count": 27,
   "metadata": {},
   "outputs": [],
   "source": [
    "schema = px.Schema( \n",
    "    embedding_feature_column_names= {\n",
    "        'text_embedding': px.EmbeddingColumnNames(\n",
    "            vector_column_name='text_vector', \n",
    "            raw_data_column_name='sentences'\n",
    "        )\n",
    "    },\n",
    "    # excluded_column_names='label')\n",
    "    # timestamp_column_name='date'\n",
    ")"
   ]
  },
  {
   "cell_type": "code",
   "execution_count": 28,
   "metadata": {},
   "outputs": [],
   "source": [
    "prod_ds = px.Inferences(dataframe=df, schema=schema, name=\"production\")"
   ]
  },
  {
   "cell_type": "code",
   "execution_count": 29,
   "metadata": {},
   "outputs": [
    {
     "name": "stderr",
     "output_type": "stream",
     "text": [
      "WARNI [phoenix.session.session] Existing running Phoenix instance detected! Shutting it down and starting a new instance...\n"
     ]
    },
    {
     "name": "stdout",
     "output_type": "stream",
     "text": [
      "🌍 To view the Phoenix app in your browser, visit http://localhost:6006/\n",
      "📖 For more information on how to use Phoenix, check out https://docs.arize.com/phoenix\n"
     ]
    },
    {
     "name": "stderr",
     "output_type": "stream",
     "text": [
      "c:\\Users\\faune\\miniconda3\\envs\\thesis\\Lib\\site-packages\\phoenix\\server\\api\\types\\EmbeddingDimension.py:422: FutureWarning: Series.__getitem__ treating keys as positions is deprecated. In a future version, integer keys will always be treated as labels (consistent with DataFrame behavior). To access a value by position, use `ser.iloc[pos]`\n",
      "  prediction_id=dataset[PREDICTION_ID][row_id],\n",
      "c:\\Users\\faune\\miniconda3\\envs\\thesis\\Lib\\site-packages\\phoenix\\server\\api\\types\\EmbeddingDimension.py:423: FutureWarning: Series.__getitem__ treating keys as positions is deprecated. In a future version, integer keys will always be treated as labels (consistent with DataFrame behavior). To access a value by position, use `ser.iloc[pos]`\n",
      "  link_to_data=dataset[self.dimension.link_to_data][row_id],\n",
      "c:\\Users\\faune\\miniconda3\\envs\\thesis\\Lib\\site-packages\\phoenix\\server\\api\\types\\EmbeddingDimension.py:424: FutureWarning: Series.__getitem__ treating keys as positions is deprecated. In a future version, integer keys will always be treated as labels (consistent with DataFrame behavior). To access a value by position, use `ser.iloc[pos]`\n",
      "  raw_data=dataset[self.dimension.raw_data][row_id],\n",
      "c:\\Users\\faune\\miniconda3\\envs\\thesis\\Lib\\site-packages\\phoenix\\server\\api\\types\\EmbeddingDimension.py:442: FutureWarning: Series.__getitem__ treating keys as positions is deprecated. In a future version, integer keys will always be treated as labels (consistent with DataFrame behavior). To access a value by position, use `ser.iloc[pos]`\n",
      "  prediction_label=dataset[PREDICTION_LABEL][row_id],\n",
      "c:\\Users\\faune\\miniconda3\\envs\\thesis\\Lib\\site-packages\\phoenix\\server\\api\\types\\EmbeddingDimension.py:443: FutureWarning: Series.__getitem__ treating keys as positions is deprecated. In a future version, integer keys will always be treated as labels (consistent with DataFrame behavior). To access a value by position, use `ser.iloc[pos]`\n",
      "  prediction_score=dataset[PREDICTION_SCORE][row_id],\n",
      "c:\\Users\\faune\\miniconda3\\envs\\thesis\\Lib\\site-packages\\phoenix\\server\\api\\types\\EmbeddingDimension.py:444: FutureWarning: Series.__getitem__ treating keys as positions is deprecated. In a future version, integer keys will always be treated as labels (consistent with DataFrame behavior). To access a value by position, use `ser.iloc[pos]`\n",
      "  actual_label=dataset[ACTUAL_LABEL][row_id],\n",
      "c:\\Users\\faune\\miniconda3\\envs\\thesis\\Lib\\site-packages\\phoenix\\server\\api\\types\\EmbeddingDimension.py:445: FutureWarning: Series.__getitem__ treating keys as positions is deprecated. In a future version, integer keys will always be treated as labels (consistent with DataFrame behavior). To access a value by position, use `ser.iloc[pos]`\n",
      "  actual_score=dataset[ACTUAL_SCORE][row_id],\n"
     ]
    }
   ],
   "source": [
    "session = px.launch_app(primary=prod_ds)"
   ]
  },
  {
   "cell_type": "code",
   "execution_count": null,
   "metadata": {},
   "outputs": [],
   "source": []
  }
 ],
 "metadata": {
  "kernelspec": {
   "display_name": "thesis",
   "language": "python",
   "name": "python3"
  },
  "language_info": {
   "codemirror_mode": {
    "name": "ipython",
    "version": 3
   },
   "file_extension": ".py",
   "mimetype": "text/x-python",
   "name": "python",
   "nbconvert_exporter": "python",
   "pygments_lexer": "ipython3",
   "version": "3.11.9"
  }
 },
 "nbformat": 4,
 "nbformat_minor": 2
}
