{
 "cells": [
  {
   "cell_type": "code",
   "execution_count": 1,
   "metadata": {},
   "outputs": [],
   "source": [
    "import polars as pl \n",
    "import seaborn as sns \n",
    "import matplotlib.pyplot as plt\n"
   ]
  },
  {
   "cell_type": "code",
   "execution_count": 2,
   "metadata": {},
   "outputs": [
    {
     "data": {
      "text/html": [
       "<div><style>\n",
       ".dataframe > thead > tr,\n",
       ".dataframe > tbody > tr {\n",
       "  text-align: right;\n",
       "  white-space: pre-wrap;\n",
       "}\n",
       "</style>\n",
       "<small>shape: (9, 4)</small><table border=\"1\" class=\"dataframe\"><thead><tr><th>statistic</th><th>Label</th><th>nb_news</th><th>total_length</th></tr><tr><td>str</td><td>f64</td><td>f64</td><td>f64</td></tr></thead><tbody><tr><td>&quot;count&quot;</td><td>1719.0</td><td>1719.0</td><td>1719.0</td></tr><tr><td>&quot;null_count&quot;</td><td>0.0</td><td>0.0</td><td>0.0</td></tr><tr><td>&quot;mean&quot;</td><td>0.499127</td><td>850.158813</td><td>61605.722513</td></tr><tr><td>&quot;std&quot;</td><td>0.500145</td><td>236.960182</td><td>17578.285985</td></tr><tr><td>&quot;min&quot;</td><td>0.0</td><td>55.0</td><td>3503.0</td></tr><tr><td>&quot;25%&quot;</td><td>0.0</td><td>748.0</td><td>53761.0</td></tr><tr><td>&quot;50%&quot;</td><td>0.0</td><td>877.0</td><td>64524.0</td></tr><tr><td>&quot;75%&quot;</td><td>1.0</td><td>994.0</td><td>72899.0</td></tr><tr><td>&quot;max&quot;</td><td>1.0</td><td>1613.0</td><td>124160.0</td></tr></tbody></table></div>"
      ],
      "text/plain": [
       "shape: (9, 4)\n",
       "┌────────────┬──────────┬────────────┬──────────────┐\n",
       "│ statistic  ┆ Label    ┆ nb_news    ┆ total_length │\n",
       "│ ---        ┆ ---      ┆ ---        ┆ ---          │\n",
       "│ str        ┆ f64      ┆ f64        ┆ f64          │\n",
       "╞════════════╪══════════╪════════════╪══════════════╡\n",
       "│ count      ┆ 1719.0   ┆ 1719.0     ┆ 1719.0       │\n",
       "│ null_count ┆ 0.0      ┆ 0.0        ┆ 0.0          │\n",
       "│ mean       ┆ 0.499127 ┆ 850.158813 ┆ 61605.722513 │\n",
       "│ std        ┆ 0.500145 ┆ 236.960182 ┆ 17578.285985 │\n",
       "│ min        ┆ 0.0      ┆ 55.0       ┆ 3503.0       │\n",
       "│ 25%        ┆ 0.0      ┆ 748.0      ┆ 53761.0      │\n",
       "│ 50%        ┆ 0.0      ┆ 877.0      ┆ 64524.0      │\n",
       "│ 75%        ┆ 1.0      ┆ 994.0      ┆ 72899.0      │\n",
       "│ max        ┆ 1.0      ┆ 1613.0     ┆ 124160.0     │\n",
       "└────────────┴──────────┴────────────┴──────────────┘"
      ]
     },
     "metadata": {},
     "output_type": "display_data"
    }
   ],
   "source": [
    "\n",
    "news = (\n",
    "    pl.read_csv(\n",
    "        r\"C:\\Users\\faune\\Downloads\\lab1\\lab1\\data\\dow_jones_news.csv\", \n",
    "        separator=';'\n",
    "    )\n",
    "    .with_columns(\n",
    "        pl.col('news').str.split('***')\n",
    "    )\n",
    ")\n",
    "display(\n",
    "    news\n",
    "    .with_columns(\n",
    "        pl.col('news').list.len().alias('nb_news'),\n",
    "        pl.col('news').list.join('.').str.len_chars().alias('total_length')\n",
    "    )\n",
    "    .drop('news','Date')\n",
    "    .describe()\n",
    ")"
   ]
  },
  {
   "cell_type": "code",
   "execution_count": 3,
   "metadata": {},
   "outputs": [],
   "source": [
    "news = news.sort('Date').with_columns(pl.col('news').list.join('|'))\n",
    "news = (\n",
    "    news.with_columns(\n",
    "        pl.col('news').str.len_chars().alias('length')\n",
    "    )\n",
    "    .with_columns(\n",
    "        pl.when(pl.col('length').ge(8192))\n",
    "        .then(pl.col('news').str.head(8191))\n",
    "        .otherwise(pl.col('news')).alias('stripped_news')\n",
    "    )\n",
    "    .with_columns(\n",
    "        pl.col('stripped_news')\n",
    "        .str.split('|')\n",
    "        .list.head(\n",
    "            pl.col('stripped_news').str.split('|').list.len()-1\n",
    "        ).list.join('|')\n",
    "    )\n",
    "    .with_columns(pl.col('stripped_news').str.len_chars().alias('stripped_length'))\n",
    ")\n"
   ]
  },
  {
   "cell_type": "code",
   "execution_count": 9,
   "metadata": {},
   "outputs": [],
   "source": [
    "histplot = news.with_columns(pl.col('stripped_news').str.split('|'), pl.col('Date').cast(pl.Date)).with_columns(pl.col('Date').dt.year().alias('year')).explode('stripped_news').select('year', 'Date')"
   ]
  },
  {
   "cell_type": "code",
   "execution_count": 22,
   "metadata": {},
   "outputs": [
    {
     "data": {
      "text/plain": [
       "<Axes: xlabel='year', ylabel='Count'>"
      ]
     },
     "execution_count": 22,
     "metadata": {},
     "output_type": "execute_result"
    },
    {
     "data": {
      "image/png": "[encoded data removed]",
      "text/plain": [
       "<Figure size 640x480 with 1 Axes>"
      ]
     },
     "metadata": {},
     "output_type": "display_data"
    }
   ],
   "source": [
    "sns.set_context(context='paper')\n",
    "sns.histplot(data=histplot.to_pandas(), x = 'year', binwidth=1, discrete=True, palette=sns.cubehelix_palette(n_colors=8), hue='year', legend=False)"
   ]
  },
  {
   "cell_type": "code",
   "execution_count": null,
   "metadata": {},
   "outputs": [],
   "source": []
  }
 ],
 "metadata": {
  "kernelspec": {
   "display_name": "thesis",
   "language": "python",
   "name": "python3"
  },
  "language_info": {
   "codemirror_mode": {
    "name": "ipython",
    "version": 3
   },
   "file_extension": ".py",
   "mimetype": "text/x-python",
   "name": "python",
   "nbconvert_exporter": "python",
   "pygments_lexer": "ipython3",
   "version": "3.11.9"
  }
 },
 "nbformat": 4,
 "nbformat_minor": 2
}
