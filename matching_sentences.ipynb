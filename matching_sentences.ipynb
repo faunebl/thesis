{
 "cells": [
  {
   "cell_type": "code",
   "execution_count": 44,
   "metadata": {},
   "outputs": [],
   "source": [
    "import nltk\n",
    "from nltk.tokenize import word_tokenize\n",
    "from nltk.corpus import stopwords\n",
    "from nltk.stem.porter import PorterStemmer\n",
    "import pandas as pd\n",
    "import polars as pl\n",
    "import polars.selectors as cs\n",
    "import string\n",
    "from sklearn.preprocessing import MultiLabelBinarizer\n",
    "from sklearn.metrics.pairwise import cosine_similarity\n",
    "from sklearn.metrics.pairwise import euclidean_distances\n",
    "import numpy as np\n",
    "import utils\n",
    "path = r'C:\\Users\\faune\\Desktop\\thesis\\stanford_sentiment.parquet'"
   ]
  },
  {
   "cell_type": "markdown",
   "metadata": {},
   "source": [
    "## Init"
   ]
  },
  {
   "cell_type": "code",
   "execution_count": null,
   "metadata": {},
   "outputs": [],
   "source": [
    "print('Downloading necessary resources...')\n",
    "nltk.download('punkt')\n",
    "nltk.download('stopwords')\n",
    "df = pd.read_parquet(path)\n",
    "print('Initialize the stemmer and stop words')\n",
    "stemmer = PorterStemmer()\n",
    "stop_words = set(stopwords.words('english'))"
   ]
  },
  {
   "cell_type": "code",
   "execution_count": null,
   "metadata": {},
   "outputs": [],
   "source": [
    "def process_text(text):\n",
    "    text = text.translate(str.maketrans('', '', string.punctuation))\n",
    "    word_tokens = word_tokenize(text)\n",
    "    stems = [stemmer.stem(word) for word in word_tokens]\n",
    "    return stems"
   ]
  },
  {
   "cell_type": "markdown",
   "metadata": {},
   "source": [
    "## Matching sentences"
   ]
  },
  {
   "cell_type": "code",
   "execution_count": null,
   "metadata": {},
   "outputs": [],
   "source": [
    "df['processed'] = df['sentence'].apply(process_text)\n",
    "\n",
    "print('Create a vocabulary of all unique words')\n",
    "vocab = sorted(set(word for tokens in df['processed'].values for word in tokens))\n",
    "\n",
    "print('One-hot encode the words using MultiLabelBinarizer')\n",
    "mlb = MultiLabelBinarizer(classes=vocab)\n",
    "\n",
    "\n",
    "print('Compute quantiles and get the index for the selected quantile')\n",
    "df['len'] = df['processed'].apply(len)\n",
    "q=10\n",
    "df['quantile_len'] = pd.qcut(df['len'],q=q,labels=[f'q{i}' for i in range(1,q+1)])\n",
    "\n",
    "quantile = 'q10'\n",
    "\n",
    "df['positive_idx'] = -1\n",
    "df['negative_idx'] = -1\n",
    "df.loc[(df.label==0) & (df.quantile_len==quantile),'negative_idx'] = df.loc[(df.label==0) & (df.quantile_len==quantile)].reset_index().index.astype('Int64')\n",
    "df.loc[(df.label==1) & (df.quantile_len==quantile),'positive_idx'] = df.loc[(df.label==1) & (df.quantile_len==quantile)].reset_index().index.astype('Int64')\n",
    "\n",
    "print('Compute the gram matrix over the quantile (x positive, y negative)')\n",
    "X = mlb.fit_transform(df.loc[(df['label']==1) & (df.quantile_len==quantile),'processed'])\n",
    "Y = mlb.fit_transform(df.loc[(df['label']==0) & (df.quantile_len==quantile),'processed'])\n",
    "matrix = X@Y.T\n",
    "\n",
    "\n",
    "print('Merging the output to make the correspondance between positive and neg sentences')\n",
    "positive_quantile_df = df.loc[(df.label==1) & (df.quantile_len==quantile),:]\n",
    "negative_quantile_df = df.loc[(df.label==0) & (df.quantile_len==quantile),:]\n",
    "positive_quantile_df['neg_closest_idx'] = np.argmax(matrix,axis=1)\n",
    "merged = positive_quantile_df.merge(negative_quantile_df[['negative_idx','sentence','processed']].rename({'sentence':'neg_sentence','processed':'neg_processed'},axis=1),\n",
    "                            how='left',\n",
    "                            left_on='neg_closest_idx',\n",
    "                            right_on='negative_idx')"
   ]
  },
  {
   "cell_type": "markdown",
   "metadata": {},
   "source": [
    "## Final computations"
   ]
  },
  {
   "cell_type": "code",
   "execution_count": null,
   "metadata": {},
   "outputs": [],
   "source": [
    "merged"
   ]
  },
  {
   "cell_type": "code",
   "execution_count": null,
   "metadata": {},
   "outputs": [],
   "source": [
    "embeddings = pl.read_parquet(path)"
   ]
  },
  {
   "cell_type": "code",
   "execution_count": null,
   "metadata": {},
   "outputs": [],
   "source": [
    "embeddings.columns"
   ]
  },
  {
   "cell_type": "code",
   "execution_count": null,
   "metadata": {},
   "outputs": [],
   "source": [
    "matched_sentences = (\n",
    "    pl.DataFrame(merged)\n",
    "    .select('sentence', 'processed', 'neg_sentence', 'neg_processed')\n",
    "    .join(embeddings, on = 'sentence')\n",
    "    .drop('idx')\n",
    "    .join(embeddings.rename({'sentence': 'neg_sentence'}), on = 'neg_sentence', suffix = '_neg')\n",
    "    .select(pl.exclude('idx', 'label', 'label_neg'))\n",
    ")"
   ]
  },
  {
   "cell_type": "code",
   "execution_count": null,
   "metadata": {},
   "outputs": [],
   "source": [
    "utils.display_polars(\n",
    "    matched_sentences\n",
    "    .unique()\n",
    "    .with_columns(pl.col('processed').list.set_intersection(pl.col('neg_processed')).alias('matching_words'))\n",
    "    .with_columns(pl.col('matching_words').list.len().alias('nb'))\n",
    "    .with_columns(\n",
    "            pl.col('nb').truediv(pl.col('processed').list.len()).alias('ratio_pos'), \n",
    "            pl.col('nb').truediv(pl.col('neg_processed').list.len()).alias('ratio_neg')\n",
    "    )\n",
    "    .with_columns(\n",
    "        pl.mean_horizontal('ratio_pos', 'ratio_neg').alias('ratio')\n",
    "    )\n",
    "    .sort('ratio', descending=True)\n",
    "    .filter(pl.col('ratio').gt(0.2), pl.col('ratio').lt(0.8))\n",
    ")"
   ]
  },
  {
   "cell_type": "code",
   "execution_count": 40,
   "metadata": {},
   "outputs": [
    {
     "data": {
      "text/html": [
       "<div><style>\n",
       ".dataframe > thead > tr,\n",
       ".dataframe > tbody > tr {\n",
       "  text-align: right;\n",
       "  white-space: pre-wrap;\n",
       "}\n",
       "</style>\n",
       "<small>shape: (3_459, 6)</small><table border=\"1\" class=\"dataframe\"><thead><tr><th>sentence</th><th>processed</th><th>neg_sentence</th><th>neg_processed</th><th>embeddings</th><th>embeddings_neg</th></tr><tr><td>str</td><td>list[str]</td><td>str</td><td>list[str]</td><td>list[f64]</td><td>list[f64]</td></tr></thead><tbody><tr><td>&quot;i have always …</td><td>[&quot;i&quot;, &quot;have&quot;, … &quot;that&quot;]</td><td>&quot;the entire poi…</td><td>[&quot;the&quot;, &quot;entir&quot;, … &quot;sens&quot;]</td><td>[-0.02655, 0.022507, … 0.019058]</td><td>[-0.02951, -0.013542, … -0.025604]</td></tr><tr><td>&quot;while centered…</td><td>[&quot;while&quot;, &quot;center&quot;, … &quot;israel&quot;]</td><td>&quot;the entire poi…</td><td>[&quot;the&quot;, &quot;entir&quot;, … &quot;sens&quot;]</td><td>[-0.026337, 0.009979, … 0.015419]</td><td>[-0.02951, -0.013542, … -0.025604]</td></tr><tr><td>&quot;though its sto…</td><td>[&quot;though&quot;, &quot;it&quot;, … &quot;lookse&quot;]</td><td>&quot;the entire poi…</td><td>[&quot;the&quot;, &quot;entir&quot;, … &quot;sens&quot;]</td><td>[-0.037903, 0.026352, … 0.030838]</td><td>[-0.02951, -0.013542, … -0.025604]</td></tr><tr><td>&quot;i have always …</td><td>[&quot;i&quot;, &quot;have&quot;, … &quot;that&quot;]</td><td>&quot;the entire poi…</td><td>[&quot;the&quot;, &quot;entir&quot;, … &quot;sens&quot;]</td><td>[-0.028595, 0.026749, … 0.013939]</td><td>[-0.02951, -0.013542, … -0.025604]</td></tr><tr><td>&quot;, this marvelo…</td><td>[&quot;thi&quot;, &quot;marvel&quot;, … &quot;israel&quot;]</td><td>&quot;the entire poi…</td><td>[&quot;the&quot;, &quot;entir&quot;, … &quot;sens&quot;]</td><td>[-0.014496, -0.003305, … 0.010147]</td><td>[-0.02951, -0.013542, … -0.025604]</td></tr><tr><td>&hellip;</td><td>&hellip;</td><td>&hellip;</td><td>&hellip;</td><td>&hellip;</td><td>&hellip;</td></tr><tr><td>&quot;talk to her is…</td><td>[&quot;talk&quot;, &quot;to&quot;, … &quot;watch&quot;]</td><td>&quot;fails in makin…</td><td>[&quot;fail&quot;, &quot;in&quot;, … &quot;care&quot;]</td><td>[-0.010658, 0.021744, … -0.001521]</td><td>[-0.012512, 0.027496, … 0.00573]</td></tr><tr><td>&quot;the evocative …</td><td>[&quot;the&quot;, &quot;evoc&quot;, … &quot;gear&quot;]</td><td>&quot;fails in makin…</td><td>[&quot;fail&quot;, &quot;in&quot;, … &quot;care&quot;]</td><td>[-0.034424, 0.029541, … 0.010101]</td><td>[-0.012512, 0.027496, … 0.00573]</td></tr><tr><td>&quot;the evocative …</td><td>[&quot;the&quot;, &quot;evoc&quot;, … &quot;gear&quot;]</td><td>&quot;fails in makin…</td><td>[&quot;fail&quot;, &quot;in&quot;, … &quot;care&quot;]</td><td>[-0.030655, 0.033325, … 0.010094]</td><td>[-0.012512, 0.027496, … 0.00573]</td></tr><tr><td>&quot;berling and bé…</td><td>[&quot;berl&quot;, &quot;and&quot;, … &quot;charact&quot;]</td><td>&quot;fails in makin…</td><td>[&quot;fail&quot;, &quot;in&quot;, … &quot;care&quot;]</td><td>[-0.034576, 0.000008, … -0.017838]</td><td>[-0.012512, 0.027496, … 0.00573]</td></tr><tr><td>&quot;berling and bé…</td><td>[&quot;berl&quot;, &quot;and&quot;, … &quot;charact&quot;]</td><td>&quot;fails in makin…</td><td>[&quot;fail&quot;, &quot;in&quot;, … &quot;care&quot;]</td><td>[-0.034332, 0.000704, … -0.025421]</td><td>[-0.012512, 0.027496, … 0.00573]</td></tr></tbody></table></div>"
      ],
      "text/plain": [
       "shape: (3_459, 6)\n",
       "┌────────────────┬────────────────┬────────────────┬───────────────┬───────────────┬───────────────┐\n",
       "│ sentence       ┆ processed      ┆ neg_sentence   ┆ neg_processed ┆ embeddings    ┆ embeddings_ne │\n",
       "│ ---            ┆ ---            ┆ ---            ┆ ---           ┆ ---           ┆ g             │\n",
       "│ str            ┆ list[str]      ┆ str            ┆ list[str]     ┆ list[f64]     ┆ ---           │\n",
       "│                ┆                ┆                ┆               ┆               ┆ list[f64]     │\n",
       "╞════════════════╪════════════════╪════════════════╪═══════════════╪═══════════════╪═══════════════╡\n",
       "│ i have always  ┆ [\"i\", \"have\",  ┆ the entire     ┆ [\"the\",       ┆ [-0.02655,    ┆ [-0.02951,    │\n",
       "│ appreciated a  ┆ … \"that\"]      ┆ point of a     ┆ \"entir\", …    ┆ 0.022507, …   ┆ -0.013542, …  │\n",
       "│ smar…          ┆                ┆ shaggy dog…    ┆ \"sens\"]       ┆ 0.019058]     ┆ -0.02560…     │\n",
       "│ while centered ┆ [\"while\",      ┆ the entire     ┆ [\"the\",       ┆ [-0.026337,   ┆ [-0.02951,    │\n",
       "│ on the life    ┆ \"center\", …    ┆ point of a     ┆ \"entir\", …    ┆ 0.009979, …   ┆ -0.013542, …  │\n",
       "│ exper…         ┆ \"israel\"]      ┆ shaggy dog…    ┆ \"sens\"]       ┆ 0.015419…     ┆ -0.02560…     │\n",
       "│ though its     ┆ [\"though\",     ┆ the entire     ┆ [\"the\",       ┆ [-0.037903,   ┆ [-0.02951,    │\n",
       "│ story is only  ┆ \"it\", …        ┆ point of a     ┆ \"entir\", …    ┆ 0.026352, …   ┆ -0.013542, …  │\n",
       "│ surface…       ┆ \"lookse\"]      ┆ shaggy dog…    ┆ \"sens\"]       ┆ 0.030838…     ┆ -0.02560…     │\n",
       "│ i have always  ┆ [\"i\", \"have\",  ┆ the entire     ┆ [\"the\",       ┆ [-0.028595,   ┆ [-0.02951,    │\n",
       "│ appreciated a  ┆ … \"that\"]      ┆ point of a     ┆ \"entir\", …    ┆ 0.026749, …   ┆ -0.013542, …  │\n",
       "│ smar…          ┆                ┆ shaggy dog…    ┆ \"sens\"]       ┆ 0.013939…     ┆ -0.02560…     │\n",
       "│ , this         ┆ [\"thi\",        ┆ the entire     ┆ [\"the\",       ┆ [-0.014496,   ┆ [-0.02951,    │\n",
       "│ marvelous      ┆ \"marvel\", …    ┆ point of a     ┆ \"entir\", …    ┆ -0.003305, …  ┆ -0.013542, …  │\n",
       "│ documentary    ┆ \"israel\"]      ┆ shaggy dog…    ┆ \"sens\"]       ┆ 0.01014…      ┆ -0.02560…     │\n",
       "│ tou…           ┆                ┆                ┆               ┆               ┆               │\n",
       "│ …              ┆ …              ┆ …              ┆ …             ┆ …             ┆ …             │\n",
       "│ talk to her is ┆ [\"talk\", \"to\", ┆ fails in       ┆ [\"fail\",      ┆ [-0.010658,   ┆ [-0.012512,   │\n",
       "│ so darned      ┆ … \"watch\"]     ┆ making this    ┆ \"in\", …       ┆ 0.021744, …   ┆ 0.027496, …   │\n",
       "│ assured…       ┆                ┆ character u…   ┆ \"care\"]       ┆ -0.00152…     ┆ 0.00573]      │\n",
       "│ the evocative  ┆ [\"the\",        ┆ fails in       ┆ [\"fail\",      ┆ [-0.034424,   ┆ [-0.012512,   │\n",
       "│ imagery and    ┆ \"evoc\", …      ┆ making this    ┆ \"in\", …       ┆ 0.029541, …   ┆ 0.027496, …   │\n",
       "│ gentle…        ┆ \"gear\"]        ┆ character u…   ┆ \"care\"]       ┆ 0.010101…     ┆ 0.00573]      │\n",
       "│ the evocative  ┆ [\"the\",        ┆ fails in       ┆ [\"fail\",      ┆ [-0.030655,   ┆ [-0.012512,   │\n",
       "│ imagery and    ┆ \"evoc\", …      ┆ making this    ┆ \"in\", …       ┆ 0.033325, …   ┆ 0.027496, …   │\n",
       "│ gentle…        ┆ \"gear\"]        ┆ character u…   ┆ \"care\"]       ┆ 0.010094…     ┆ 0.00573]      │\n",
       "│ berling and    ┆ [\"berl\",       ┆ fails in       ┆ [\"fail\",      ┆ [-0.034576,   ┆ [-0.012512,   │\n",
       "│ béart ...      ┆ \"and\", …       ┆ making this    ┆ \"in\", …       ┆ 0.000008, …   ┆ 0.027496, …   │\n",
       "│ continue t…    ┆ \"charact\"]     ┆ character u…   ┆ \"care\"]       ┆ -0.01783…     ┆ 0.00573]      │\n",
       "│ berling and    ┆ [\"berl\",       ┆ fails in       ┆ [\"fail\",      ┆ [-0.034332,   ┆ [-0.012512,   │\n",
       "│ béart ...      ┆ \"and\", …       ┆ making this    ┆ \"in\", …       ┆ 0.000704, …   ┆ 0.027496, …   │\n",
       "│ continue t…    ┆ \"charact\"]     ┆ character u…   ┆ \"care\"]       ┆ -0.02542…     ┆ 0.00573]      │\n",
       "└────────────────┴────────────────┴────────────────┴───────────────┴───────────────┴───────────────┘"
      ]
     },
     "execution_count": 40,
     "metadata": {},
     "output_type": "execute_result"
    }
   ],
   "source": [
    "matched_sentences"
   ]
  },
  {
   "cell_type": "code",
   "execution_count": 55,
   "metadata": {},
   "outputs": [],
   "source": [
    "with_metrics = (matched_sentences.unique().with_columns(\n",
    "        matched_sentences.with_columns(pl.col('embeddings').list.to_array(1024),pl.col('embeddings_neg').list.to_array(1024))\n",
    "        .map_rows(function=lambda t : tuple(cosine_similarity(X=np.array(t[4]).reshape(1, -1), Y=np.array(t[5]).reshape(1, -1)).tolist()))\n",
    "    )\n",
    "    .explode('column_0')\n",
    "    .sort('column_0')\n",
    "    .rename({'column_0': 'cosine_similarity'})\n",
    "    .with_columns(\n",
    "        matched_sentences.with_columns(pl.col('embeddings').list.to_array(1024),pl.col('embeddings_neg').list.to_array(1024))\n",
    "        .map_rows(function=lambda t :np.dot(a=t[4], b=np.transpose(t[5])))\n",
    "    )\n",
    "    .rename({'map': 'dot_product'})\n",
    "    .sort('cosine_similarity')\n",
    "    .with_columns(\n",
    "        matched_sentences.with_columns(pl.col('embeddings').list.to_array(1024),pl.col('embeddings_neg').list.to_array(1024))\n",
    "        .map_rows(function=lambda t : tuple(euclidean_distances(X=np.array(t[4]).reshape(1, -1), Y=np.array(t[5]).reshape(1, -1)).tolist()))\n",
    "    )\n",
    "    .explode('column_0')\n",
    "    .rename({'column_0':'euclidean_distance'})\n",
    "    .with_columns(\n",
    "        matched_sentences.with_columns(pl.col('embeddings').list.to_array(1024),pl.col('embeddings_neg').list.to_array(1024))\n",
    "        .map_rows(function=lambda t :np.linalg.norm(x=t[4]) -np.linalg.norm(x=t[5]))\n",
    "    )\n",
    "    .rename({'map':'norm_difference'})\n",
    ")\n"
   ]
  },
  {
   "cell_type": "code",
   "execution_count": 56,
   "metadata": {},
   "outputs": [
    {
     "data": {
      "text/html": [
       "<div><style>\n",
       ".dataframe > thead > tr,\n",
       ".dataframe > tbody > tr {\n",
       "  text-align: right;\n",
       "  white-space: pre-wrap;\n",
       "}\n",
       "</style>\n",
       "<small>shape: (3_459, 10)</small><table border=\"1\" class=\"dataframe\"><thead><tr><th>sentence</th><th>processed</th><th>neg_sentence</th><th>neg_processed</th><th>embeddings</th><th>embeddings_neg</th><th>cosine_similarity</th><th>dot_product</th><th>euclidean_distance</th><th>norm_difference</th></tr><tr><td>str</td><td>list[str]</td><td>str</td><td>list[str]</td><td>list[f64]</td><td>list[f64]</td><td>f64</td><td>f64</td><td>f64</td><td>f64</td></tr></thead><tbody><tr><td>&quot;here relies le…</td><td>[&quot;here&quot;, &quot;reli&quot;, … &quot;hellsteniu&quot;]</td><td>&quot;instead of a w…</td><td>[&quot;instead&quot;, &quot;of&quot;, … &quot;video&quot;]</td><td>[-0.031982, 0.037628, … 0.01078]</td><td>[-0.018143, 0.012184, … -0.00366]</td><td>0.665127</td><td>0.750734</td><td>0.705759</td><td>-0.000583</td></tr><tr><td>&quot;it &#x27;s a perfec…</td><td>[&quot;it&quot;, &quot;s&quot;, … &quot;it&quot;]</td><td>&quot;such a bad mov…</td><td>[&quot;such&quot;, &quot;a&quot;, … &quot;show&quot;]</td><td>[-0.035034, -0.001105, … 0.019608]</td><td>[-0.001801, 0.011826, … -0.000638]</td><td>0.665864</td><td>0.71996</td><td>0.748611</td><td>-0.000196</td></tr><tr><td>&quot;austin powers …</td><td>[&quot;austin&quot;, &quot;power&quot;, … &quot;end&quot;]</td><td>&quot;with mcconaugh…</td><td>[&quot;with&quot;, &quot;mcconaughey&quot;, … &quot;crowd&quot;]</td><td>[-0.030319, -0.000034, … 0.030655]</td><td>[-0.004093, 0.017471, … 0.028275]</td><td>0.671825</td><td>0.749367</td><td>0.708617</td><td>0.000071</td></tr><tr><td>&quot;there is a cer…</td><td>[&quot;there&quot;, &quot;is&quot;, … &quot;compel&quot;]</td><td>&quot;to the filmmak…</td><td>[&quot;to&quot;, &quot;the&quot;, … &quot;merit&quot;]</td><td>[-0.039215, 0.026764, … 0.02652]</td><td>[-0.064209, 0.041321, … 0.012695]</td><td>0.672149</td><td>0.734155</td><td>0.729625</td><td>-0.000034</td></tr><tr><td>&quot;worth a look f…</td><td>[&quot;worth&quot;, &quot;a&quot;, … &quot;birmingham&quot;]</td><td>&quot;goldmember has…</td><td>[&quot;goldmemb&quot;, &quot;ha&quot;, … &quot;taxicab&quot;]</td><td>[-0.042999, 0.017746, … 0.022537]</td><td>[-0.027161, 0.012825, … -0.012032]</td><td>0.673492</td><td>0.729886</td><td>0.735338</td><td>-0.000118</td></tr><tr><td>&hellip;</td><td>&hellip;</td><td>&hellip;</td><td>&hellip;</td><td>&hellip;</td><td>&hellip;</td><td>&hellip;</td><td>&hellip;</td><td>&hellip;</td><td>&hellip;</td></tr><tr><td>&quot;that the direc…</td><td>[&quot;that&quot;, &quot;the&quot;, … &quot;wallop&quot;]</td><td>&quot;as gamely as t…</td><td>[&quot;as&quot;, &quot;game&quot;, … &quot;bridg&quot;]</td><td>[-0.033203, 0.006603, … -0.000787]</td><td>[-0.022034, 0.034271, … -0.029648]</td><td>0.998046</td><td>0.850958</td><td>0.54558</td><td>0.000369</td></tr><tr><td>&quot;frequent flurr…</td><td>[&quot;frequent&quot;, &quot;flurri&quot;, … &quot;eas&quot;]</td><td>&quot;of day by conc…</td><td>[&quot;of&quot;, &quot;day&quot;, … &quot;retali&quot;]</td><td>[-0.045013, 0.010361, … 0.025284]</td><td>[-0.028503, 0.028809, … -0.044922]</td><td>0.998227</td><td>0.812926</td><td>0.611071</td><td>0.000212</td></tr><tr><td>&quot;until it goes …</td><td>[&quot;until&quot;, &quot;it&quot;, … &quot;film&quot;]</td><td>&quot;mib ii is a mo…</td><td>[&quot;mib&quot;, &quot;ii&quot;, … &quot;anyth&quot;]</td><td>[-0.044281, 0.015099, … -0.008934]</td><td>[-0.019867, 0.044312, … -0.008751]</td><td>0.998512</td><td>0.802118</td><td>0.628761</td><td>0.000371</td></tr><tr><td>&quot;an ambitious m…</td><td>[&quot;an&quot;, &quot;ambiti&quot;, … &quot;off&quot;]</td><td>&quot;the fact that …</td><td>[&quot;the&quot;, &quot;fact&quot;, … &quot;it&quot;]</td><td>[-0.011612, 0.035461, … -0.010208]</td><td>[-0.030624, 0.014046, … -0.013039]</td><td>0.998653</td><td>0.79486</td><td>0.640121</td><td>0.00032</td></tr><tr><td>&quot;nighttime manh…</td><td>[&quot;nighttim&quot;, &quot;manhattan&quot;, … &quot;ego&quot;]</td><td>&quot;mckay seems em…</td><td>[&quot;mckay&quot;, &quot;seem&quot;, … &quot;servic&quot;]</td><td>[-0.011314, 0.050262, … -0.015396]</td><td>[-0.043182, 0.053558, … -0.01223]</td><td>0.998949</td><td>0.788097</td><td>0.650882</td><td>0.000503</td></tr></tbody></table></div>"
      ],
      "text/plain": [
       "shape: (3_459, 10)\n",
       "┌───────────┬───────────┬───────────┬───────────┬───┬───────────┬───────────┬───────────┬──────────┐\n",
       "│ sentence  ┆ processed ┆ neg_sente ┆ neg_proce ┆ … ┆ cosine_si ┆ dot_produ ┆ euclidean ┆ norm_dif │\n",
       "│ ---       ┆ ---       ┆ nce       ┆ ssed      ┆   ┆ milarity  ┆ ct        ┆ _distance ┆ ference  │\n",
       "│ str       ┆ list[str] ┆ ---       ┆ ---       ┆   ┆ ---       ┆ ---       ┆ ---       ┆ ---      │\n",
       "│           ┆           ┆ str       ┆ list[str] ┆   ┆ f64       ┆ f64       ┆ f64       ┆ f64      │\n",
       "╞═══════════╪═══════════╪═══════════╪═══════════╪═══╪═══════════╪═══════════╪═══════════╪══════════╡\n",
       "│ here      ┆ [\"here\",  ┆ instead   ┆ [\"instead ┆ … ┆ 0.665127  ┆ 0.750734  ┆ 0.705759  ┆ -0.00058 │\n",
       "│ relies    ┆ \"reli\", … ┆ of a      ┆ \", \"of\",  ┆   ┆           ┆           ┆           ┆ 3        │\n",
       "│ less on   ┆ \"hellsten ┆ witty     ┆ …         ┆   ┆           ┆           ┆           ┆          │\n",
       "│ forced    ┆ iu\"]      ┆ expose on ┆ \"video\"]  ┆   ┆           ┆           ┆           ┆          │\n",
       "│ air t…    ┆           ┆ the…      ┆           ┆   ┆           ┆           ┆           ┆          │\n",
       "│ it 's a   ┆ [\"it\",    ┆ such a    ┆ [\"such\",  ┆ … ┆ 0.665864  ┆ 0.71996   ┆ 0.748611  ┆ -0.00019 │\n",
       "│ perfect   ┆ \"s\", …    ┆ bad movie ┆ \"a\", …    ┆   ┆           ┆           ┆           ┆ 6        │\n",
       "│ show of   ┆ \"it\"]     ┆ that its  ┆ \"show\"]   ┆   ┆           ┆           ┆           ┆          │\n",
       "│ respect … ┆           ┆ luckie…   ┆           ┆   ┆           ┆           ┆           ┆          │\n",
       "│ austin    ┆ [\"austin\" ┆ with mcco ┆ [\"with\",  ┆ … ┆ 0.671825  ┆ 0.749367  ┆ 0.708617  ┆ 0.000071 │\n",
       "│ powers in ┆ ,         ┆ naughey   ┆ \"mcconaug ┆   ┆           ┆           ┆           ┆          │\n",
       "│ goldmembe ┆ \"power\",  ┆ in an     ┆ hey\", …   ┆   ┆           ┆           ┆           ┆          │\n",
       "│ r '' h…   ┆ … \"end\"]  ┆ entirely  ┆ \"crowd…   ┆   ┆           ┆           ┆           ┆          │\n",
       "│           ┆           ┆ …         ┆           ┆   ┆           ┆           ┆           ┆          │\n",
       "│ there is  ┆ [\"there\", ┆ to the    ┆ [\"to\",    ┆ … ┆ 0.672149  ┆ 0.734155  ┆ 0.729625  ┆ -0.00003 │\n",
       "│ a certain ┆ \"is\", …   ┆ filmmaker ┆ \"the\", …  ┆   ┆           ┆           ┆           ┆ 4        │\n",
       "│ sense of  ┆ \"compel\"] ┆ s , ivan  ┆ \"merit\"]  ┆   ┆           ┆           ┆           ┆          │\n",
       "│ expe…     ┆           ┆ is a pr…  ┆           ┆   ┆           ┆           ┆           ┆          │\n",
       "│ worth a   ┆ [\"worth\", ┆ goldmembe ┆ [\"goldmem ┆ … ┆ 0.673492  ┆ 0.729886  ┆ 0.735338  ┆ -0.00011 │\n",
       "│ look for  ┆ \"a\", …    ┆ r has     ┆ b\", \"ha\", ┆   ┆           ┆           ┆           ┆ 8        │\n",
       "│ its true- ┆ \"birmingh ┆ none of   ┆ … \"taxica ┆   ┆           ┆           ┆           ┆          │\n",
       "│ to-lif…   ┆ am\"]      ┆ the       ┆ b\"]       ┆   ┆           ┆           ┆           ┆          │\n",
       "│           ┆           ┆ visua…    ┆           ┆   ┆           ┆           ┆           ┆          │\n",
       "│ …         ┆ …         ┆ …         ┆ …         ┆ … ┆ …         ┆ …         ┆ …         ┆ …        │\n",
       "│ that the  ┆ [\"that\",  ┆ as gamely ┆ [\"as\",    ┆ … ┆ 0.998046  ┆ 0.850958  ┆ 0.54558   ┆ 0.000369 │\n",
       "│ director  ┆ \"the\", …  ┆ as the    ┆ \"game\", … ┆   ┆           ┆           ┆           ┆          │\n",
       "│ of such   ┆ \"wallop\"] ┆ movie     ┆ \"bridg\"]  ┆   ┆           ┆           ┆           ┆          │\n",
       "│ hollyw…   ┆           ┆ tries to  ┆           ┆   ┆           ┆           ┆           ┆          │\n",
       "│           ┆           ┆ …         ┆           ┆   ┆           ┆           ┆           ┆          │\n",
       "│ frequent  ┆ [\"frequen ┆ of day by ┆ [\"of\",    ┆ … ┆ 0.998227  ┆ 0.812926  ┆ 0.611071  ┆ 0.000212 │\n",
       "│ flurries  ┆ t\",       ┆ concentra ┆ \"day\", …  ┆   ┆           ┆           ┆           ┆          │\n",
       "│ of        ┆ \"flurri\", ┆ ting on   ┆ \"retali\"] ┆   ┆           ┆           ┆           ┆          │\n",
       "│ creative  ┆ … \"eas\"]  ┆ the e…    ┆           ┆   ┆           ┆           ┆           ┆          │\n",
       "│ be…       ┆           ┆           ┆           ┆   ┆           ┆           ┆           ┆          │\n",
       "│ until it  ┆ [\"until\", ┆ mib ii is ┆ [\"mib\",   ┆ … ┆ 0.998512  ┆ 0.802118  ┆ 0.628761  ┆ 0.000371 │\n",
       "│ goes off  ┆ \"it\", …   ┆ a movie   ┆ \"ii\", …   ┆   ┆           ┆           ┆           ┆          │\n",
       "│ the rails ┆ \"film\"]   ┆ that      ┆ \"anyth\"]  ┆   ┆           ┆           ┆           ┆          │\n",
       "│ in i…     ┆           ┆ makes it  ┆           ┆   ┆           ┆           ┆           ┆          │\n",
       "│           ┆           ┆ …         ┆           ┆   ┆           ┆           ┆           ┆          │\n",
       "│ an        ┆ [\"an\",    ┆ the fact  ┆ [\"the\",   ┆ … ┆ 0.998653  ┆ 0.79486   ┆ 0.640121  ┆ 0.00032  │\n",
       "│ ambitious ┆ \"ambiti\", ┆ that the  ┆ \"fact\", … ┆   ┆           ┆           ┆           ┆          │\n",
       "│ movie     ┆ … \"off\"]  ┆ ` best    ┆ \"it\"]     ┆   ┆           ┆           ┆           ┆          │\n",
       "│ that ,    ┆           ┆ part ' …  ┆           ┆   ┆           ┆           ┆           ┆          │\n",
       "│ like s…   ┆           ┆           ┆           ┆   ┆           ┆           ┆           ┆          │\n",
       "│ nighttime ┆ [\"nightti ┆ mckay     ┆ [\"mckay\", ┆ … ┆ 0.998949  ┆ 0.788097  ┆ 0.650882  ┆ 0.000503 │\n",
       "│ manhattan ┆ m\", \"manh ┆ seems emb ┆ \"seem\", … ┆   ┆           ┆           ┆           ┆          │\n",
       "│ , a       ┆ attan\", … ┆ arrassed  ┆ \"servic\"] ┆   ┆           ┆           ┆           ┆          │\n",
       "│ loquacio… ┆ \"ego…     ┆ by his o… ┆           ┆   ┆           ┆           ┆           ┆          │\n",
       "└───────────┴───────────┴───────────┴───────────┴───┴───────────┴───────────┴───────────┴──────────┘"
      ]
     },
     "execution_count": 56,
     "metadata": {},
     "output_type": "execute_result"
    }
   ],
   "source": [
    "with_metrics"
   ]
  },
  {
   "cell_type": "code",
   "execution_count": 49,
   "metadata": {},
   "outputs": [
    {
     "data": {
      "text/plain": [
       "<Axes: xlabel='euclidean_distance', ylabel='Count'>"
      ]
     },
     "execution_count": 49,
     "metadata": {},
     "output_type": "execute_result"
    },
    {
     "data": {
      "image/png": "[encoded data removed]",
      "text/plain": [
       "<Figure size 640x480 with 1 Axes>"
      ]
     },
     "metadata": {},
     "output_type": "display_data"
    }
   ],
   "source": [
    "import seaborn as sns \n",
    "\n",
    "sns.histplot(data=with_metrics.to_pandas(), x='euclidean_distance')"
   ]
  },
  {
   "cell_type": "code",
   "execution_count": 50,
   "metadata": {},
   "outputs": [
    {
     "data": {
      "text/plain": [
       "<Axes: xlabel='cosine_similarity', ylabel='Count'>"
      ]
     },
     "execution_count": 50,
     "metadata": {},
     "output_type": "execute_result"
    },
    {
     "data": {
      "image/png": "[encoded data removed]",
      "text/plain": [
       "<Figure size 640x480 with 1 Axes>"
      ]
     },
     "metadata": {},
     "output_type": "display_data"
    }
   ],
   "source": [
    "sns.histplot(data=with_metrics.to_pandas(), x='cosine_similarity')"
   ]
  },
  {
   "cell_type": "code",
   "execution_count": 51,
   "metadata": {},
   "outputs": [
    {
     "data": {
      "text/plain": [
       "<Axes: xlabel='dot_product', ylabel='Count'>"
      ]
     },
     "execution_count": 51,
     "metadata": {},
     "output_type": "execute_result"
    },
    {
     "data": {
      "image/png": "[encoded data removed]",
      "text/plain": [
       "<Figure size 640x480 with 1 Axes>"
      ]
     },
     "metadata": {},
     "output_type": "display_data"
    }
   ],
   "source": [
    "sns.histplot(data=with_metrics.to_pandas(), x='dot_product')"
   ]
  },
  {
   "cell_type": "code",
   "execution_count": 57,
   "metadata": {},
   "outputs": [
    {
     "data": {
      "text/plain": [
       "<Axes: xlabel='norm_difference', ylabel='Count'>"
      ]
     },
     "execution_count": 57,
     "metadata": {},
     "output_type": "execute_result"
    },
    {
     "data": {
      "image/png": "[encoded data removed]",
      "text/plain": [
       "<Figure size 640x480 with 1 Axes>"
      ]
     },
     "metadata": {},
     "output_type": "display_data"
    }
   ],
   "source": [
    "sns.histplot(data=with_metrics.to_pandas(), x='norm_difference')"
   ]
  },
  {
   "cell_type": "code",
   "execution_count": null,
   "metadata": {},
   "outputs": [],
   "source": []
  }
 ],
 "metadata": {
  "kernelspec": {
   "display_name": "thesis",
   "language": "python",
   "name": "python3"
  },
  "language_info": {
   "codemirror_mode": {
    "name": "ipython",
    "version": 3
   },
   "file_extension": ".py",
   "mimetype": "text/x-python",
   "name": "python",
   "nbconvert_exporter": "python",
   "pygments_lexer": "ipython3",
   "version": "3.11.9"
  }
 },
 "nbformat": 4,
 "nbformat_minor": 2
}
